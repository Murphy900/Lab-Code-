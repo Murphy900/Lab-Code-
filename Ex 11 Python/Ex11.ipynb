{
 "cells": [
  {
   "cell_type": "markdown",
   "metadata": {},
   "source": [
    "<h1> Lecture 11 : Least-Squares Fitting </h1>\n",
    "\n"
   ]
  },
  {
   "cell_type": "markdown",
   "metadata": {},
   "source": [
    "<h3> Exercise 11.1 </h3>\n",
    "\n",
    "<p>After defining, in a dedicated library, a linear function phi(x,theta) with two parameters: \n",
    "<ul> \n",
    "<li> Write a program that generates a set of 10 pairs (x_i,y_i) such that the points x_i are randomly distributed along the horizontal axis between 0 and 10, and the points y_i are constructed using the formula y_i = phi(x,theta) + e_i.</li>\n",
    "<li> Plot the obtained sample, including the expected error bars. </li>\n",
    "</ul>\n",
    "</p>"
   ]
  },
  {
   "cell_type": "code",
   "execution_count": 22,
   "metadata": {},
   "outputs": [
    {
     "data": {
      "text/plain": [
       "<ErrorbarContainer object of 3 artists>"
      ]
     },
     "execution_count": 22,
     "metadata": {},
     "output_type": "execute_result"
    },
    {
     "data": {
      "image/png": "[encoded data removed]",
      "text/plain": [
       "<Figure size 640x480 with 1 Axes>"
      ]
     },
     "metadata": {},
     "output_type": "display_data"
    }
   ],
   "source": [
    "import matplotlib.pyplot as plt\n",
    "import numpy as np\n",
    "from math import sqrt\n",
    "import myrand as rand\n",
    "\n",
    "#- - - - - - - - - - - - - - - - - - - - - - - - - - - - - - - - - - - - - - - - - - - - - - - - - - - \n",
    "# This method define a generic linear function respect the theta parameters and x observable variable\n",
    "#- - - - - - - - - - - - - - - - - - - - - - - - - - - - - - - - - - - - - - - - - - - - - - - - - - - \n",
    "\n",
    "\n",
    "def phi(x,theta,f):\n",
    "\n",
    "    if len(theta) == 1 : raise ValueError('theta must have dimension greater than 1')\n",
    "\n",
    "    if len(f) == 1 : raise ValueError('f must have dimension greater than 1')\n",
    "\n",
    "    if len(f) != len(theta): raise ValueError('f and theta must have same dimensione')\n",
    "\n",
    "    yi = 0\n",
    "    for i in range(len(theta)):\n",
    "        y = f[i](x)*theta[i]\n",
    "        yi += y\n",
    "\n",
    "    return yi\n",
    "\n",
    "\n",
    "theta = [0.5,1.1]\n",
    "f = [lambda x:  x , lambda x : 1]\n",
    "\n",
    "epsilon_sigma = 0.3\n",
    "\n",
    "epsilon = rand.generate_TCL_ms(0.,epsilon_sigma,10)\n",
    "\n",
    "xcoord = np.arange(0,10,1)\n",
    "ycoord = []\n",
    "\n",
    "for i in range (xcoord.size):\n",
    "    ycoord.append(phi(xcoord[i],theta,f) + epsilon[i])\n",
    "sigma_y = epsilon_sigma*np.ones(len(ycoord))\n",
    "\n",
    "plt.errorbar(xcoord,ycoord,yerr = sigma_y, linestyle = 'none', marker = 'o', capsize = 2.0) \n",
    "\n"
   ]
  },
  {
   "cell_type": "markdown",
   "metadata": {},
   "source": [
    "<h3> Exercise 11.2 </h3>\n",
    "\n",
    "<p> Use the iMinuit library to perform a fit on the simulated sample. </p>\n",
    "<ul> \n",
    "<li> Check if the fit was successful </li>\n",
    "<li> Print the values of the determined parameters and theri sigma on screen</li>\n",
    "\n",
    "\n",
    "</ul>"
   ]
  },
  {
   "cell_type": "markdown",
   "metadata": {},
   "source": [
    "<h3> Exercise 11.3 </h3>\n",
    "\n",
    "<ul> \n",
    "\n",
    "<li> Calculate the value of Q^2 using the points and the fitted function obtained in the previous exercise. </li> \n",
    "<li> Compare the value obtained with iminuit with the calculated one.  </li>\n",
    "<li> Print the value of the degrees of freedom of the fit </li>\n",
    "\n",
    "</ul>"
   ]
  },
  {
   "cell_type": "markdown",
   "metadata": {},
   "source": [
    "<h3> Exercise 11.6 </h3>\n",
    "\n",
    "<p> Add to Exercise 11.3 the screen printout of the entire covariance matrix of the fit parameters. </p>\n",
    "\n"
   ]
  },
  {
   "cell_type": "code",
   "execution_count": 105,
   "metadata": {},
   "outputs": [
    {
     "name": "stdout",
     "output_type": "stream",
     "text": [
      "Success of the fit:  True\n",
      "m =  0.4522320515902576 q =  1.3779125089891606\n",
      "err m =  0.033028928364006414\n",
      "err q =  0.17632622352645852\n",
      "Q^2 from own algorithm =  2.1171902508390623\n",
      "value of the fit Q-squared using iminuit library:  2.1171902508390623\n",
      "The difference between the two Q^2 is : 0.0\n",
      "the degress of freedoms of the fit are:  8.0\n",
      "┌───┬─────────────────┐\n",
      "│   │       m       q │\n",
      "├───┼─────────────────┤\n",
      "│ m │ 0.00109 -0.0049 │\n",
      "│ q │ -0.0049  0.0311 │\n",
      "└───┴─────────────────┘\n",
      "variance of the first parameter (m): 0.0010909101088746676\n",
      "variance of the second parameter (q): 0.031090937103102616\n",
      "covariance of the two parameters: -0.004909096213977959\n"
     ]
    }
   ],
   "source": [
    "from iminuit import Minuit\n",
    "from iminuit.cost import LeastSquares\n",
    "\n",
    "def func (x,m,q):\n",
    "    return m*x + q\n",
    "\n",
    "def qsquared(x,y,sigma_y,f,m,q):\n",
    "    \n",
    "    Q_squared = 0\n",
    "\n",
    "    for i in range(len(x)):    \n",
    "        Q_squared = Q_squared +  pow((y[i]-f(x[i],m,q))/sigma_y[i],2)\n",
    "    \n",
    "    return Q_squared\n",
    "\n",
    "\n",
    "epsilon_sigma = 0.3\n",
    "\n",
    "epsilon = rand.generate_TCL_ms(0.,epsilon_sigma,10)\n",
    "\n",
    "x_coord = np.arange(0,10,1)\n",
    "y_coord = np.zeros(10)\n",
    "\n",
    "for i in range (x_coord.size):\n",
    "    y_coord[i] = func(x_coord[i],0.5,1.1) + epsilon[i]\n",
    "\n",
    "sigma_y = epsilon_sigma*np.ones(len(y_coord))\n",
    "\n",
    "\n",
    "least_squares = LeastSquares (x_coord, y_coord, sigma_y,func)\n",
    "my_minuit = Minuit (least_squares, m = 0, q = 0)  # starting values for m and q\n",
    "my_minuit.migrad ()  # finds minimum of least_squares function\n",
    "my_minuit.hesse ()   # accurately computes uncertainties\n",
    "\n",
    "\n",
    "# NB: adding additional instructions prevents the automatic visualisation of the fit result\n",
    "\n",
    "is_valid = my_minuit.valid\n",
    "print('Success of the fit: ', is_valid)\n",
    "\n",
    "m_fit = my_minuit.values[0]\n",
    "q_fit = my_minuit.values[1]\n",
    "\n",
    "errM = my_minuit.errors[0]\n",
    "errQ = my_minuit.errors[1]\n",
    "\n",
    "print('m = ', m_fit,'q = ', q_fit )\n",
    "print('err m = ', errM)\n",
    "print('err q = ', errQ)\n",
    "\n",
    "Qsquare = qsquared(x_coord,y_coord,sigma_y,func,m_fit,q_fit)\n",
    "\n",
    "print('Q^2 from own algorithm = ', Qsquare)\n",
    "\n",
    "Q_squared = my_minuit.fval\n",
    "\n",
    "print('value of the fit Q-squared using iminuit library: ', Q_squared)\n",
    "\n",
    "print('The difference between the two Q^2 is :', abs(Q_squared-Qsquare))\n",
    "\n",
    "print('the degress of freedoms of the fit are: ', my_minuit.ndof)\n",
    "\n",
    "print (my_minuit.covariance)\n",
    "print ('variance of the first parameter (m):', my_minuit.covariance[0][0])\n",
    "print ('variance of the second parameter (q):', my_minuit.covariance[1][1])\n",
    "print ('covariance of the two parameters:', my_minuit.covariance[1][0])"
   ]
  },
  {
   "cell_type": "markdown",
   "metadata": {},
   "source": [
    "<h3> Exercise 11.4 </h3>\n",
    "\n",
    "<p> Using the toy experiments technique, generate 10,000 fit experiments with the model studied in the previous exercises and fill a histogram with the obtained values of Q^2. </p>\n",
    "<ul>\n",
    "<li>Compare the expected value of Q^2 obtained from the toy experiments with the degrees of freedom of the problem. </li>\n",
    "</ul>"
   ]
  },
  {
   "cell_type": "code",
   "execution_count": 87,
   "metadata": {},
   "outputs": [
    {
     "name": "stdout",
     "output_type": "stream",
     "text": [
      "Number of degree of fredom of the problem =  8.0\n",
      "Q^2 expected value =  7.9654226104695045\n",
      "The value obtained is near the the expected value of a Q^2 distribution that coincide with number of degree of freedom\n"
     ]
    },
    {
     "data": {
      "image/png": "[encoded data removed]",
      "text/plain": [
       "<Figure size 640x480 with 1 Axes>"
      ]
     },
     "metadata": {},
     "output_type": "display_data"
    }
   ],
   "source": [
    "import stats as stats\n",
    "from math import ceil\n",
    "\n",
    "\n",
    "#This function calculate the optimal numbers of bins for making an in Histogram un function of the number of \n",
    "#events\n",
    "\n",
    "def sturges(N_events):\n",
    "    if len(N_events) != 1 :\n",
    "        return ceil(1+3.322 * np.log(len(N_events)))\n",
    "    else:\n",
    "        return ceil(1+3.322 * np.log(N_events))\n",
    "\n",
    "# - - - - - - - - - - - - - - - - - - - - - - - - - - - - - - - - - - - - - - - - - - - - - - - - - - - - - -\n",
    "\n",
    "NToys = 10000\n",
    "\n",
    "epsilon_sigma = 0.3\n",
    "m_true = 0.5\n",
    "q_true = 1.1\n",
    "\n",
    "Q2 = []\n",
    "\n",
    "\n",
    "for i in range(NToys):\n",
    "    epsilon = rand.generate_TCL_ms(0.,epsilon_sigma,10)\n",
    "    x_coord = np.arange(0,10,1)\n",
    "    y_coord = np.zeros(10)\n",
    "\n",
    "    for i in range (x_coord.size):\n",
    "        y_coord[i] = func(x_coord[i],m_true,q_true) + epsilon[i]\n",
    "\n",
    "    sigma_y = epsilon_sigma*np.ones(len(y_coord))\n",
    "\n",
    "\n",
    "    least_squares = LeastSquares (x_coord, y_coord, sigma_y,func)\n",
    "    my_minuit = Minuit (least_squares, m = 0, q = 0)  # starting values for m and q\n",
    "    my_minuit.migrad ()  # finds minimum of least_squares function\n",
    "    my_minuit.hesse ()   # accurately computes uncertainties\n",
    "    Q2.append(my_minuit.fval)\n",
    "\n",
    "\n",
    "nbins = sturges(Q2)\n",
    "measure = stats.stats(Q2)\n",
    "\n",
    "xmin = measure.mean() - 5.*measure.sigma()\n",
    "xmax = measure.mean() + 5.*measure.sigma()\n",
    "\n",
    "measure = stats.stats(Q2)\n",
    "\n",
    "bins_edges = np.linspace(xmin,xmax,nbins)\n",
    "\n",
    "plt.hist(Q2,bins = bins_edges)\n",
    "plt.xlim(0.)\n",
    "\n",
    "print('Number of degree of fredom of the problem = ', my_minuit.ndof)\n",
    "print('Q^2 expected value = ' , measure.mean())\n",
    "print('The value obtained is near the the expected value of a Q^2 distribution that coincide with number of degree of freedom')\n"
   ]
  },
  {
   "cell_type": "markdown",
   "metadata": {},
   "source": [
    "<h3> Exercise 11.5 </h3>\n",
    "<p>Modify the previous program by deliberately changing the experimental uncertainty associated with the points y_i\n",
    " in the sample and verify that it’s possible to recover the uncertainty used in generating the points through the expected value of the variable Q^2.</p>"
   ]
  },
  {
   "cell_type": "code",
   "execution_count": 103,
   "metadata": {},
   "outputs": [
    {
     "name": "stdout",
     "output_type": "stream",
     "text": [
      "the factore of scale used was =  0.40021172579869285\n"
     ]
    }
   ],
   "source": [
    "NToys = 10000\n",
    "epsilon_sigma = 0.3\n",
    "epsilon_sigma_mod = 0.4 * epsilon_sigma\n",
    "x_coord = np.arange(0,10,1)\n",
    "y_coord = np.zeros(10)\n",
    "\n",
    "Q2 = []\n",
    "\n",
    "for i in range(NToys):\n",
    "\n",
    "    epsilon = rand.generate_TCL_ms(0.,epsilon_sigma_mod,10)\n",
    "\n",
    "    for i in range (x_coord.size):\n",
    "        y_coord[i] = func(x_coord[i],0.5,1.1) + epsilon[i]\n",
    "\n",
    "    sigma_y = epsilon_sigma*np.ones(len(y_coord))\n",
    "\n",
    "    least_squares = LeastSquares (x_coord, y_coord, sigma_y,func)\n",
    "    my_minuit = Minuit (least_squares, m = 0, q = 0)  # starting values for m and q\n",
    "    my_minuit.migrad ()  # finds minimum of least_squares function\n",
    "    my_minuit.hesse ()   # accurately computes uncertainties\n",
    "    Q2.append (my_minuit.fval)\n",
    "    \n",
    "\n",
    "alpha = stats.stats(Q2)\n",
    "\n",
    "Q2mean = alpha.mean()\n",
    "factor = sqrt(Q2mean/my_minuit.ndof)\n",
    "print('the factore of scale used was = ', factor)\n",
    "\n"
   ]
  }
 ],
 "metadata": {
  "kernelspec": {
   "display_name": "base",
   "language": "python",
   "name": "python3"
  },
  "language_info": {
   "codemirror_mode": {
    "name": "ipython",
    "version": 3
   },
   "file_extension": ".py",
   "mimetype": "text/x-python",
   "name": "python",
   "nbconvert_exporter": "python",
   "pygments_lexer": "ipython3",
   "version": "3.9.6"
  }
 },
 "nbformat": 4,
 "nbformat_minor": 2
}
