{
 "cells": [
  {
   "cell_type": "markdown",
   "metadata": {},
   "source": [
    "<h1> Exercise of lecutre 6 : Finding Zeros and Extrema </h1>"
   ]
  },
  {
   "cell_type": "markdown",
   "metadata": {},
   "source": [
    "<h2> Exercise 6.1 </h1>\n",
    "<p>Determine the zero of the function g(x) = cos(x) using the bisection method in the interval (0, 4).\n",
    "<ul>\n",
    "<li>Which checks have been omitted in the implementation of the algorithm described in the lesson text that could speed up the result?</li></ul> </p>"
   ]
  },
  {
   "cell_type": "code",
   "execution_count": null,
   "metadata": {},
   "outputs": [],
   "source": []
  }
 ],
 "metadata": {
  "kernelspec": {
   "display_name": "base",
   "language": "python",
   "name": "python3"
  },
  "language_info": {
   "name": "python",
   "version": "3.9.7"
  }
 },
 "nbformat": 4,
 "nbformat_minor": 2
}
