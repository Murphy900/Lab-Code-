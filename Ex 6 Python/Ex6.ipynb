{
 "cells": [
  {
   "cell_type": "markdown",
   "metadata": {},
   "source": [
    "<h1> Exercise of Lecutre 6 : Finding Zeros and Extrema </h1>"
   ]
  },
  {
   "cell_type": "markdown",
   "metadata": {},
   "source": [
    "<h3> Searching algorithms for zeros of a function </h3>\n"
   ]
  },
  {
   "cell_type": "code",
   "execution_count": 53,
   "metadata": {},
   "outputs": [],
   "source": [
    "from inspect import isfunction\n",
    "import numpy as np\n",
    "import math\n",
    "\n",
    "\n",
    "#----------------------------------------------------------------------------------------------------------------------------------------------------------------------------------\n",
    "#This algorithm find the bound extrema in which fall at least a zeros of the function f, starting from an interval in which no zeros are in it.\n",
    "#It's an extension of the algorithm showed in the root finding section of numerical recipes book for c++. \n",
    "# Excluded the existence of at least a zero in the bracket [x1,x2] the algorithm perform a search outward the brackets finding the extrema in which at least a zero exist.\n",
    "#----------------------------------------------------------------------------------------------------------------------------------------------------------------------------------\n",
    "\n",
    "def zoutward(n,x1,x2,f):\n",
    "    \n",
    "    if isfunction(f) != True :\n",
    "        raise TypeError(\"f must be a function of one variable\")\n",
    "        \n",
    "    if x1 > x2 :\n",
    "        raise ValueError(str(x1) + ' must be lesser than ' + str(x2) + ' in an interval of the type [x1,x2]')\n",
    "\n",
    "    dx = x2-x1/n # increment factor of the extrema of the bracket\n",
    "    Ntry = 50 # number of try before the algorithm stops\n",
    "    \n",
    "    fp1 = f(x1)\n",
    "    fp2 = f(x2)\n",
    "    \n",
    "    xb1 = [] # list of the bracket extrema where at least exist a zero moving to left of x1\n",
    "    xb2 = [] # list of the bracket extrema where at least exist a zero moving to the right of x2\n",
    "\n",
    "    for j in range (0,Ntry):\n",
    "        x1 -= dx\n",
    "        x2 += dx\n",
    "        fc1 = f(x1)\n",
    "        fc2 = f(x2)\n",
    "\n",
    "        if fp1*fc1 <= 0.0:\n",
    "            xb1.append(x1)\n",
    "            xb1.append(x1+dx)\n",
    "\n",
    "        if fp2*fc2 <= 0.0:\n",
    "            xb2.append(x2-dx)\n",
    "            xb2.append(x2) \n",
    "        \n",
    "        fp1 = fc1\n",
    "        fp2 = fc2\n",
    "    \n",
    "    if len(xb1) == 0 and len(xb2) == 0 :\n",
    "        print('Function f doesn\\'t have zeros out of the bracket [x1,x2]')\n",
    "    else:\n",
    "        return [xb1,xb2]\n",
    "\n",
    "#--------------------------------------------------------------------------------------------------------------------------------------------------------------------------------------\n",
    "# As the algorithm before this one search the zeros of a function but at diference of the other one it look inward the bracket [x1,x2].\n",
    "#--------------------------------------------------------------------------------------------------------------------------------------------------------------------------------------\n",
    "\n",
    "def zinward(n,x1,x2,f) : \n",
    "\n",
    "    if isfunction(f) != True :\n",
    "        raise TypeError('f must be a one variable function')\n",
    "        \n",
    "\n",
    "    if x1 > x2 :\n",
    "        raise ValueError(str(x1) + ' must be lesser than ' + str(x2) + ' in an interval of the type [x1,x2]')\n",
    "        \n",
    "\n",
    "    dx = (x2-x1)/n\n",
    "    fp = f(x1)\n",
    "    x = []\n",
    "    \n",
    "\n",
    "    while math.ceil(x1) != x2 :\n",
    "        x1 += dx\n",
    "        fc = f(x1)  \n",
    "\n",
    "        if fc*fp <= 0.0 :\n",
    "            x.append(x1-dx)\n",
    "            x.append(x1)\n",
    "        \n",
    "        fp = fc\n",
    "        \n",
    "    if len(x) == 0:\n",
    "       print('Function f doesn\\'t have zeros inside the bracket [x1,x2]')\n",
    "    else:\n",
    "        return x\n",
    "\n"
   ]
  },
  {
   "cell_type": "markdown",
   "metadata": {},
   "source": [
    "<h3> Bisection Method for determinating the values of the zeros of a function </h3>\n"
   ]
  },
  {
   "cell_type": "code",
   "execution_count": 83,
   "metadata": {},
   "outputs": [],
   "source": [
    "from numpy import abs\n",
    "\n",
    "#------------------------------------------------------------------------------------------------------------------------------------------------\n",
    "# This method implement the bisection algorithm to estimate the value of the zeros of the function.\n",
    "# If there are more zeros in a bracket the method start to approximate the first zero that find in the interval\n",
    "#------------------------------------------------------------------------------------------------------------------------------------------------\n",
    "\n",
    "\n",
    "def bisection(x1,x2,f):\n",
    "\n",
    "    if x1 > x2:\n",
    "        raise ValueError(str(x1) + ' must be lesser than ' + str(x2) + ' in an interval of the type [x1,x2]')\n",
    "    if f(x1)*f(x2) > 0.0 :\n",
    "        raise ValueError('There aren\\'t zeros in the bracket'+'['+ str(x1) + ',' + str(x2) + ']')\n",
    "    \n",
    "    \n",
    "    eps = np.finfo(np.float64).eps # return double digits machine precision \n",
    "    xacc = eps*(abs(x2)+ abs(x1))/2 # defines the precision of the approximation of the zeros of the function\n",
    "    dx = x2-x1\n",
    "\n",
    "    while(dx > xacc):\n",
    "        xmid = (x1+x2)/2\n",
    "    \n",
    "        if f(xmid)*f(x1) < 0 :\n",
    "            x2 = xmid\n",
    "        else:\n",
    "            x1 = xmid\n",
    "\n",
    "        if f(xmid) == 0:\n",
    "            break\n",
    "        dx = x2 - x1\n",
    "    return xmid\n"
   ]
  },
  {
   "cell_type": "markdown",
   "metadata": {},
   "source": [
    "<h3> Finding the minimum of a function </h3>"
   ]
  },
  {
   "cell_type": "code",
   "execution_count": null,
   "metadata": {},
   "outputs": [],
   "source": []
  },
  {
   "cell_type": "markdown",
   "metadata": {},
   "source": [
    "<h2> Exercise 6.1 </h1>\n",
    "<p>Determine the zero of the function g(x) = cos(x) using the bisection method in the interval (0, 4).\n",
    "<ul>\n",
    "<li>Which checks have been omitted in the implementation of the algorithm described in the lesson text that could speed up the result?</li></ul> </p>"
   ]
  },
  {
   "cell_type": "code",
   "execution_count": 84,
   "metadata": {},
   "outputs": [
    {
     "name": "stdout",
     "output_type": "stream",
     "text": [
      "<class 'float'>\n",
      "1.5707963267948968\n"
     ]
    }
   ],
   "source": [
    "import numpy as np\n",
    "\n",
    "f = lambda x : np.cos(x)\n",
    "\n",
    "zbrack = zinward(1000,0,4,f)\n",
    "print(type(zbrack[1]))\n",
    "\n",
    "zf = bisection(zbrack[0],zbrack[1],f)\n",
    "\n",
    "print(zf)"
   ]
  },
  {
   "cell_type": "markdown",
   "metadata": {},
   "source": [
    "<h3> Exercise 6.4 </h1>\n",
    "<p> Determine the minimum of the function g(x) = x^2 + 7.3x + 4 using the golden ratio search method in the interval (-10, 10). </p>"
   ]
  },
  {
   "cell_type": "code",
   "execution_count": null,
   "metadata": {},
   "outputs": [],
   "source": []
  }
 ],
 "metadata": {
  "kernelspec": {
   "display_name": "base",
   "language": "python",
   "name": "python3"
  },
  "language_info": {
   "codemirror_mode": {
    "name": "ipython",
    "version": 3
   },
   "file_extension": ".py",
   "mimetype": "text/x-python",
   "name": "python",
   "nbconvert_exporter": "python",
   "pygments_lexer": "ipython3",
   "version": "3.9.7"
  }
 },
 "nbformat": 4,
 "nbformat_minor": 2
}
