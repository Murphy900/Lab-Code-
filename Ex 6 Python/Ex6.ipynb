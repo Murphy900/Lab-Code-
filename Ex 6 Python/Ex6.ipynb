{
 "cells": [
  {
   "cell_type": "markdown",
   "metadata": {},
   "source": [
    "<h1> Exercise of Lecutre 6 : Finding Zeros and Extrema </h1>"
   ]
  },
  {
   "cell_type": "markdown",
   "metadata": {},
   "source": [
    "<h3> Searching algorithms for zeros of a function </h3>\n"
   ]
  },
  {
   "cell_type": "code",
   "execution_count": 61,
   "metadata": {},
   "outputs": [],
   "source": [
    "from inspect import isfunction\n",
    "import numpy as np\n",
    "\n",
    "#----------------------------------------------------------------------------------------------------------------------------------------------------------------------------------\n",
    "#This algorithm find the bound extrema in which fall at least a zeros of the function f, starting from an interval in which no zeros are in it.\n",
    "#It's an extension of the algorithm showed in the root finding section of numerical recipes book for c++. \n",
    "# Excluded the existence of at least a zero in the bracket [x1,x2] the algorithm perform a search outward the brackets finding the extrema in which at least a zero exist.\n",
    "#----------------------------------------------------------------------------------------------------------------------------------------------------------------------------------\n",
    "\n",
    "def zoutward(n,x1,x2,f):\n",
    "    \n",
    "    if isfunction(f) != True :\n",
    "        raise TypeError(\"f must be a function of one variable\")\n",
    "        \n",
    "\n",
    "    if x1 > x2 :\n",
    "        raise ValueError(\" x1 must be lesser than x2 in an interval [x1,x2]\")\n",
    "        \n",
    "\n",
    "    dx = np.mod(x2-x1)/n # increment factor of the extrema of the bracket\n",
    "    Ntry = 50 # number of try before the algorithm stops\n",
    "    \n",
    "    fp1 = f(x1)\n",
    "    fp2 = f(x2)\n",
    "    \n",
    "    xb1 = [] # list of the bracket extrema where at least exist a zero moving to left of x1\n",
    "    xb2 = [] # list of the bracket extrema where at least exist a zero moving to the right of x2\n",
    "\n",
    "    for j in range (0,NTry):\n",
    "        x1 -= dx\n",
    "        x2 += dx\n",
    "        fc1 = f(x1)\n",
    "        fc2 = f(x2)\n",
    "\n",
    "        if fp1*fc1 <= 0.0:\n",
    "            xb1.append(x1)\n",
    "            xb1.append(x1+dx)\n",
    "\n",
    "        if fp2*fc2 <= 0.0:\n",
    "            xb2.append(x2-dx)\n",
    "            xb2.append(x2) \n",
    "        \n",
    "        fp1 = fc1\n",
    "        fp2 = fc2\n",
    "    \n",
    "    if len(Xb1) == 0 and len(xb2) == 0 :\n",
    "        print('Function f doesn\\'t have zeros out of the bracket [x1,x2]')\n",
    "    else:\n",
    "        return [xb1,xb2]\n",
    "\n",
    "#--------------------------------------------------------------------------------------------------------------------------------------------------------------------------------------\n",
    "# As the algorithm before this one search the zeros of a function but at diference of the other one it look inward the bracket [x1,x2].\n",
    "#--------------------------------------------------------------------------------------------------------------------------------------------------------------------------------------\n",
    "\n",
    "def zinward(n,x1,x2,f) : \n",
    "\n",
    "    if isfunction(f) != True :\n",
    "        raise TypeError(\"f must be a function of one variable\")\n",
    "        \n",
    "\n",
    "    if x1 > x2 :\n",
    "        raise ValueError(\" x1 must be lesser than x2 in an interval [x1,x2]\")\n",
    "        \n",
    "\n",
    "    dx = np.mod(x2-x1)/n\n",
    "    fp = f(x1)\n",
    "    x = []\n",
    "    nr = 0\n",
    "\n",
    "    while x1 != x2 :\n",
    "        x1 += dx\n",
    "        fc = f(x1)  \n",
    "\n",
    "        if fc*fp <= 0.0 :\n",
    "            x.append(x1-dx)\n",
    "            x.append(x1)\n",
    "        \n",
    "        fp = fc\n",
    "    if len(x) == 0:\n",
    "        print('Function f doesn\\'t have zeros inside the bracket [x1,x2]')\n",
    "    else:\n",
    "        return x\n",
    "\n"
   ]
  },
  {
   "cell_type": "markdown",
   "metadata": {},
   "source": [
    "<h2> Exercise 6.1 </h1>\n",
    "<p>Determine the zero of the function g(x) = cos(x) using the bisection method in the interval (0, 4).\n",
    "<ul>\n",
    "<li>Which checks have been omitted in the implementation of the algorithm described in the lesson text that could speed up the result?</li></ul> </p>"
   ]
  },
  {
   "cell_type": "code",
   "execution_count": null,
   "metadata": {},
   "outputs": [
    {
     "ename": "TypeError",
     "evalue": " f isn't a function",
     "output_type": "error",
     "traceback": [
      "\u001b[1;31m---------------------------------------------------------------------------\u001b[0m",
      "\u001b[1;31mTypeError\u001b[0m                                 Traceback (most recent call last)",
      "\u001b[1;32m~\\AppData\\Local\\Temp/ipykernel_12004/1153703989.py\u001b[0m in \u001b[0;36m<module>\u001b[1;34m\u001b[0m\n\u001b[0;32m     13\u001b[0m     \u001b[1;32mreturn\u001b[0m \u001b[0mf\u001b[0m\u001b[1;33m(\u001b[0m\u001b[0mx1\u001b[0m\u001b[1;33m)\u001b[0m\u001b[1;33m*\u001b[0m\u001b[0mf\u001b[0m\u001b[1;33m(\u001b[0m\u001b[0mx2\u001b[0m\u001b[1;33m)\u001b[0m\u001b[1;33m\u001b[0m\u001b[1;33m\u001b[0m\u001b[0m\n\u001b[0;32m     14\u001b[0m \u001b[1;33m\u001b[0m\u001b[0m\n\u001b[1;32m---> 15\u001b[1;33m \u001b[0mprova\u001b[0m\u001b[1;33m(\u001b[0m\u001b[1;36m2\u001b[0m\u001b[1;33m,\u001b[0m\u001b[1;36m3\u001b[0m\u001b[1;33m,\u001b[0m\u001b[1;36m5\u001b[0m\u001b[1;33m)\u001b[0m\u001b[1;33m\u001b[0m\u001b[1;33m\u001b[0m\u001b[0m\n\u001b[0m",
      "\u001b[1;32m~\\AppData\\Local\\Temp/ipykernel_12004/1153703989.py\u001b[0m in \u001b[0;36mprova\u001b[1;34m(x1, x2, f)\u001b[0m\n\u001b[0;32m      6\u001b[0m \u001b[1;32mdef\u001b[0m \u001b[0mprova\u001b[0m\u001b[1;33m(\u001b[0m\u001b[0mx1\u001b[0m\u001b[1;33m,\u001b[0m\u001b[0mx2\u001b[0m\u001b[1;33m,\u001b[0m\u001b[0mf\u001b[0m\u001b[1;33m)\u001b[0m\u001b[1;33m:\u001b[0m\u001b[1;33m\u001b[0m\u001b[1;33m\u001b[0m\u001b[0m\n\u001b[0;32m      7\u001b[0m     \u001b[1;32mif\u001b[0m \u001b[0misfunction\u001b[0m\u001b[1;33m(\u001b[0m\u001b[0mf\u001b[0m\u001b[1;33m)\u001b[0m \u001b[1;33m!=\u001b[0m \u001b[1;32mTrue\u001b[0m \u001b[1;33m:\u001b[0m\u001b[1;33m\u001b[0m\u001b[1;33m\u001b[0m\u001b[0m\n\u001b[1;32m----> 8\u001b[1;33m         \u001b[1;32mraise\u001b[0m \u001b[0mTypeError\u001b[0m\u001b[1;33m(\u001b[0m\u001b[1;34m' f isn\\'t a function'\u001b[0m\u001b[1;33m)\u001b[0m\u001b[1;33m\u001b[0m\u001b[1;33m\u001b[0m\u001b[0m\n\u001b[0m\u001b[0;32m      9\u001b[0m     \u001b[1;32mif\u001b[0m \u001b[0mx1\u001b[0m \u001b[1;33m>\u001b[0m \u001b[0mx2\u001b[0m \u001b[1;33m:\u001b[0m\u001b[1;33m\u001b[0m\u001b[1;33m\u001b[0m\u001b[0m\n\u001b[0;32m     10\u001b[0m         \u001b[1;32mraise\u001b[0m \u001b[0mValueError\u001b[0m\u001b[1;33m(\u001b[0m\u001b[1;34m'x1 deve essere piu piccolo di x2'\u001b[0m\u001b[1;33m)\u001b[0m\u001b[1;33m\u001b[0m\u001b[1;33m\u001b[0m\u001b[0m\n",
      "\u001b[1;31mTypeError\u001b[0m:  f isn't a function"
     ]
    }
   ],
   "source": [
    "\n",
    "from inspect import isfunction\n",
    "\n",
    "fx = lambda x : x**2\n",
    "x = 5\n",
    "\n",
    "def prova(x1,x2,f):\n",
    "    if isfunction(f) != True :\n",
    "        raise TypeError(' f isn\\'t a function')\n",
    "    if x1 > x2 :\n",
    "        raise ValueError('x1 deve essere piu piccolo di x2')\n",
    "        \n",
    "    if x1 != 0 :\n",
    "        print('error')\n",
    "    else:\n",
    "        return f(x1)*f(x2)\n",
    "\n",
    "prova(2,3,5)"
   ]
  }
 ],
 "metadata": {
  "kernelspec": {
   "display_name": "base",
   "language": "python",
   "name": "python3"
  },
  "language_info": {
   "codemirror_mode": {
    "name": "ipython",
    "version": 3
   },
   "file_extension": ".py",
   "mimetype": "text/x-python",
   "name": "python",
   "nbconvert_exporter": "python",
   "pygments_lexer": "ipython3",
   "version": "3.9.7"
  }
 },
 "nbformat": 4,
 "nbformat_minor": 2
}
