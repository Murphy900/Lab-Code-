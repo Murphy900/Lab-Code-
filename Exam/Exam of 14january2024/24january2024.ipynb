{
 "cells": [
  {
   "cell_type": "markdown",
   "metadata": {},
   "source": [
    "<h3> Esame 24 january 2024 </h3>\n",
    "\n",
    "<p> Punto 1) Calcolare con il metodo hit or miss il valore che deve assumere A affinche la pdf f(x) sia correttamente normalizzata</p>"
   ]
  },
  {
   "cell_type": "markdown",
   "metadata": {},
   "source": [
    "<p> Punto 2)  Si generi un insieme di 10 000  numeri casuali x_i distribuiti secondo la pdf f(x) utilizzando il metodo try and catch </p>"
   ]
  },
  {
   "cell_type": "markdown",
   "metadata": {},
   "source": [
    "<p> Punto 3) Si mostri in un istogramma la distribuzione degli eventi generati </p>"
   ]
  },
  {
   "cell_type": "markdown",
   "metadata": {},
   "source": [
    "<p> Punto 4) Si calcolino,apartire dagli eventi generati,la media,deviazione standard,asimmetria e curtosi della distribuzione implementando le funzioni corrispondenti. </p>"
   ]
  },
  {
   "cell_type": "code",
   "execution_count": 35,
   "metadata": {},
   "outputs": [
    {
     "name": "stdout",
     "output_type": "stream",
     "text": [
      "1.2\n",
      "<class 'list'>\n"
     ]
    },
    {
     "ename": "TypeError",
     "evalue": "unsupported operand type(s) for -: 'list' and 'float'",
     "output_type": "error",
     "traceback": [
      "\u001b[0;31m---------------------------------------------------------------------------\u001b[0m",
      "\u001b[0;31mTypeError\u001b[0m                                 Traceback (most recent call last)",
      "Cell \u001b[0;32mIn[35], line 79\u001b[0m\n\u001b[1;32m     71\u001b[0m     SampleSkew \u001b[38;5;241m=\u001b[39m measure\u001b[38;5;241m.\u001b[39mskew() \u001b[38;5;66;03m#it's the assimetry of  the sample \u001b[39;00m\n\u001b[1;32m     72\u001b[0m     SampleKurt \u001b[38;5;241m=\u001b[39m measure\u001b[38;5;241m.\u001b[39mkurt()\n\u001b[0;32m---> 79\u001b[0m \u001b[38;5;28;01mif\u001b[39;00m \u001b[38;5;18m__name__\u001b[39m \u001b[38;5;241m==\u001b[39m \u001b[38;5;124m\"\u001b[39m\u001b[38;5;124m__main__\u001b[39m\u001b[38;5;124m\"\u001b[39m: main()\n",
      "Cell \u001b[0;32mIn[35], line 71\u001b[0m, in \u001b[0;36mmain\u001b[0;34m()\u001b[0m\n\u001b[1;32m     69\u001b[0m sampleMean \u001b[38;5;241m=\u001b[39m measure\u001b[38;5;241m.\u001b[39mmean()\n\u001b[1;32m     70\u001b[0m SampleSigma \u001b[38;5;241m=\u001b[39m measure\u001b[38;5;241m.\u001b[39msigma() \u001b[38;5;66;03m# it's the standard deviation of the sample\u001b[39;00m\n\u001b[0;32m---> 71\u001b[0m SampleSkew \u001b[38;5;241m=\u001b[39m \u001b[43mmeasure\u001b[49m\u001b[38;5;241;43m.\u001b[39;49m\u001b[43mskew\u001b[49m\u001b[43m(\u001b[49m\u001b[43m)\u001b[49m \u001b[38;5;66;03m#it's the assimetry of  the sample \u001b[39;00m\n\u001b[1;32m     72\u001b[0m SampleKurt \u001b[38;5;241m=\u001b[39m measure\u001b[38;5;241m.\u001b[39mkurt()\n",
      "File \u001b[0;32m~/Documents/Lab-Code-/Exam/Exam of 14january2024/stats.py:33\u001b[0m, in \u001b[0;36mstats.skew\u001b[0;34m(self, bessel)\u001b[0m\n\u001b[1;32m     32\u001b[0m \u001b[38;5;28;01mdef\u001b[39;00m \u001b[38;5;21mskew\u001b[39m(\u001b[38;5;28mself\u001b[39m,bessel \u001b[38;5;241m=\u001b[39m \u001b[38;5;28;01mFalse\u001b[39;00m):\n\u001b[0;32m---> 33\u001b[0m     ske \u001b[38;5;241m=\u001b[39m \u001b[38;5;28msum\u001b[39m(\u001b[38;5;28;43mself\u001b[39;49m\u001b[38;5;241;43m.\u001b[39;49m\u001b[43msample\u001b[49m\u001b[43m \u001b[49m\u001b[38;5;241;43m-\u001b[39;49m\u001b[43m \u001b[49m\u001b[38;5;28;43mself\u001b[39;49m\u001b[38;5;241;43m.\u001b[39;49m\u001b[43mmean\u001b[49m\u001b[43m(\u001b[49m\u001b[43m)\u001b[49m)\u001b[38;5;241m*\u001b[39m\u001b[38;5;241m*\u001b[39m\u001b[38;5;241m3\u001b[39m\u001b[38;5;241m/\u001b[39m(\u001b[38;5;28mself\u001b[39m\u001b[38;5;241m.\u001b[39msigma()\u001b[38;5;241m*\u001b[39m\u001b[38;5;241m*\u001b[39m\u001b[38;5;241m3\u001b[39m\u001b[38;5;241m*\u001b[39m\u001b[38;5;28mself\u001b[39m\u001b[38;5;241m.\u001b[39mN)\n\u001b[1;32m     34\u001b[0m     \u001b[38;5;28;01mif\u001b[39;00m bessel: ske \u001b[38;5;241m=\u001b[39m \u001b[38;5;28msum\u001b[39m(\u001b[38;5;28mself\u001b[39m\u001b[38;5;241m.\u001b[39msample \u001b[38;5;241m-\u001b[39m \u001b[38;5;28mself\u001b[39m\u001b[38;5;241m.\u001b[39mmean())\u001b[38;5;241m*\u001b[39m\u001b[38;5;241m*\u001b[39m\u001b[38;5;241m3\u001b[39m\u001b[38;5;241m/\u001b[39m(\u001b[38;5;28mself\u001b[39m\u001b[38;5;241m.\u001b[39msigma(bessel)\u001b[38;5;241m*\u001b[39m\u001b[38;5;241m*\u001b[39m\u001b[38;5;241m3\u001b[39m\u001b[38;5;241m*\u001b[39m(\u001b[38;5;28mself\u001b[39m\u001b[38;5;241m.\u001b[39mN\u001b[38;5;241m-\u001b[39m\u001b[38;5;241m1\u001b[39m))\n\u001b[1;32m     35\u001b[0m     \u001b[38;5;28;01mreturn\u001b[39;00m ske\n",
      "\u001b[0;31mTypeError\u001b[0m: unsupported operand type(s) for -: 'list' and 'float'"
     ]
    },
    {
     "data": {
      "image/png": "[encoded data removed]",
      "text/plain": [
       "<Figure size 640x480 with 1 Axes>"
      ]
     },
     "metadata": {},
     "output_type": "display_data"
    }
   ],
   "source": [
    "from math import cos,pi,ceil\n",
    "from integration import integral_HOM\n",
    "from myrand import generate_TAC\n",
    "import numpy as np\n",
    "import stats as stats\n",
    "import matplotlib.pyplot as plt\n",
    "\n",
    "\n",
    "# - - - - - - - - - - - - - - - - - - - - - - - - - - - - - - - - - - - - - - - - - - - - - - - - - - - - - -\n",
    "#This function calculate the optimal numbers of bins for making an in Histogram un function of the number of \n",
    "#events\n",
    "# - - - - - - - - - - - - - - - - - - - - - - - - - - - - - - - - - - - - - - - - - - - - - - - - - - - - - -\n",
    "\n",
    "def sturges(N_events):\n",
    "    if len(N_events) != 1 :\n",
    "        return ceil(1+3.322 * np.log(len(N_events)))\n",
    "    else:\n",
    "        return ceil(1+3.322 * np.log(N_events))\n",
    "\n",
    "# - - - - - - - - - - - - - - - - - - - - - - - - - - - - - - - - - - - - - - - - - - - - - - - - - - - - - -\n",
    "\n",
    "def main():\n",
    "    \n",
    "    # Point 1) - - - - - - - - - - - - - - - - - - - - - - - - - - - - - - - - - - - - - - - - - - - - - - - - - \n",
    "\n",
    "    xmin = 0. \n",
    "    xmax = 1.5*pi\n",
    "    \n",
    "\n",
    "    f = lambda x : cos(x)**2\n",
    "\n",
    "    B = integral_HOM(f,xmin,xmax,1.,50)[0]\n",
    "\n",
    "    A = 1/B\n",
    "\n",
    "    # We estimate the value of the integral of cos^2(x) without the costant A and after this we recalculate the integral of the function B*cos^2(x), in this way the pdf is normalized\n",
    "    \n",
    "    pdf = lambda x : A*cos(x)**2\n",
    "\n",
    "    integral = integral_HOM(pdf,xmin,xmax,A,50)[0] \n",
    "\n",
    "    print(integral)\n",
    "\n",
    "# Point 2)  - - - - - - - - - - - - - - - - - - - - - - - - - - - - - - - - - - - - - - - - - - - - - - - - - - \n",
    "\n",
    "    NToys = 10000\n",
    "\n",
    "    ymax = A\n",
    "\n",
    "    sample =  generate_TAC(pdf,xmin,xmax,ymax, NToys)[0]\n",
    "\n",
    "\n",
    "# Point 3)  - - - - - - - - - - - - - - - - - - - - - - - - - - - - - - - - - - - - - - - - - - - - - - - - - - \n",
    "\n",
    "    nbins = sturges(sample)\n",
    "\n",
    "    bins_edges = np.linspace(xmin,xmax,nbins)\n",
    "\n",
    "    plt.hist(sample,bins = bins_edges)\n",
    "    plt.title('Integral of the pdf ' + r'$B\\cos(x)$')\n",
    "    plt.xlabel('x')\n",
    "    plt.ylabel(r'$B\\cos(x)$')\n",
    "\n",
    "# Point 4)  - - - - - - - - - - - - - - - - - - - - - - - - - - - - - - - - - - - - - - - - - - - - - - - - - - \n",
    "\n",
    "    measure = stats.stats(sample)\n",
    "\n",
    "    sampleMean = measure.mean()\n",
    "    SampleSigma = measure.sigma() # it's the standard deviation of the sample\n",
    "    SampleSkew = measure.skew() # it's the assimetry of  the sample \n",
    "    SampleKurt = measure.kurt()\n",
    "\n",
    "\n",
    "\n",
    "\n",
    "\n",
    "\n",
    "if __name__ == \"__main__\": main()"
   ]
  }
 ],
 "metadata": {
  "kernelspec": {
   "display_name": "Python 3",
   "language": "python",
   "name": "python3"
  },
  "language_info": {
   "codemirror_mode": {
    "name": "ipython",
    "version": 3
   },
   "file_extension": ".py",
   "mimetype": "text/x-python",
   "name": "python",
   "nbconvert_exporter": "python",
   "pygments_lexer": "ipython3",
   "version": "3.9.6"
  }
 },
 "nbformat": 4,
 "nbformat_minor": 2
}
