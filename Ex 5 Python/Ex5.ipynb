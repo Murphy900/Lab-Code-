{
 "cells": [
  {
   "cell_type": "markdown",
   "metadata": {},
   "source": [
    "<H1> Exercise of Lecture 5 : Function, Classes and Functional Programming </H1>"
   ]
  },
  {
   "cell_type": "markdown",
   "metadata": {},
   "source": [
    "<h3> Exercise 5.1 </h3>\n",
    "<p> Create a python library that implements the Fraction class, containing its constructor, the data members to save numerator and denominator, and the class method that returns the division between the numerator and the denominator.</p>"
   ]
  },
  {
   "cell_type": "markdown",
   "metadata": {},
   "source": [
    "<h3> Exercise 5.2 </h3>\n",
    "<p> Implement a test function of the class inside the library file itself, that verifies the output of each method of the class, and that prints on screen the value of the numerator and of the denominator of a fraction. </p>"
   ]
  },
  {
   "cell_type": "code",
   "execution_count": 11,
   "metadata": {},
   "outputs": [],
   "source": [
    "from math import gcd\n",
    "\n",
    "class Fraction:\n",
    "\n",
    "    # Constructor for inizialize a general fraction \n",
    "\n",
    "    def __init__ (self, numerator,denominator):\n",
    "\n",
    "        \n",
    "        if denominator == 0 :\n",
    "            raise ValueError('you can\\'t divide a number for 0, enter a number greater than zero ')\n",
    "        if type(numerator) != int and type(denominator) != int :\n",
    "            raise TypeError ('Numerator and Denominator must be integer')\n",
    "        else:    \n",
    "            self.numerator  = numerator\n",
    "            self.denominator = denominator\n",
    "\n",
    "    # --------------------------------------------------------------------------------------------------------\n",
    "\n",
    "    # method for printing the value of the numerator and denominator of a fraction \n",
    "    def print (self):\n",
    "\n",
    "        print(str(self.numerator) + '/' + str(self.denominator))\n",
    "\n",
    "    # -------------------------------------------------------------------------------------------------------\n",
    "    #this method reduce to minimum term the fraction object\n",
    "\n",
    "    def minimumTerm(self):\n",
    "\n",
    "        commondivisor = gcd (self.numerator, self.denominator)\n",
    "        \n",
    "        if commondivisor == 1 :\n",
    "            print(' The fraction is already reduced to minimum term')\n",
    "        else:\n",
    "        \n",
    "            self.numerator  = int(self.numerator / commondivisor)\n",
    "            self.denominator = int(self.denominator / commondivisor)\n",
    "\n",
    "    # ---------------------------------------------------------------------------------------------------------\n",
    "\n"
   ]
  },
  {
   "cell_type": "markdown",
   "metadata": {},
   "source": [
    "<p> Testing of the class </p\n",
    ">"
   ]
  },
  {
   "cell_type": "code",
   "execution_count": 12,
   "metadata": {},
   "outputs": [
    {
     "name": "stdout",
     "output_type": "stream",
     "text": [
      "3/9\n",
      "1/3\n",
      "-------------------------------------------------------\n",
      "1/3\n",
      " The fraction is already reduced to minimum term\n",
      "1/3\n"
     ]
    }
   ],
   "source": [
    "def main (): \n",
    "\n",
    "    fraction = Fraction(3,9)\n",
    "    fraction.print()\n",
    "    fraction.minimumTerm()\n",
    "    fraction.print()\n",
    "    print('-------------------------------------------------------')\n",
    "    frac1 = Fraction (1,3)\n",
    "    frac1.print()\n",
    "    frac1.minimumTerm()\n",
    "    frac1.print()\n",
    "    \n",
    "if __name__ == \"__main__\" :\n",
    "   main()\n"
   ]
  },
  {
   "cell_type": "markdown",
   "metadata": {},
   "source": [
    "<h3> Exercise 5.3 </h3>\n",
    "<p>\n",
    "Add to the Fraction class the overloading of the +, -, *, / operations in such a way that each of them returns an object of the type Fraction.\n",
    "\n",
    "Add to the test function the call to all the new methods and the verification of their behaviour.</p>"
   ]
  },
  {
   "cell_type": "code",
   "execution_count": null,
   "metadata": {},
   "outputs": [],
   "source": [
    "from math import gcd\n",
    "\n",
    "class Fraction:\n",
    "\n",
    "    # Constructor for inizialize a general fraction \n",
    "\n",
    "    def __init__ (self, numerator,denominator):\n",
    "\n",
    "        \n",
    "        if denominator == 0 :\n",
    "            raise ValueError('you can\\'t divide a number for 0, enter a number greater than zero ')\n",
    "        if type(numerator) != int and type(denominator) != int :\n",
    "            raise TypeError ('Numerator and Denominator must be integer')\n",
    "        else:    \n",
    "            self.numerator  = numerator\n",
    "            self.denominator = denominator\n",
    "\n",
    "    # --------------------------------------------------------------------------------------------------------\n",
    "\n",
    "    # method for printing the value of the numerator and denominator of a fraction \n",
    "    def print (self):\n",
    "\n",
    "        print(str(self.numerator) + '/' + str(self.denominator))\n",
    "\n",
    "    # -------------------------------------------------------------------------------------------------------\n",
    "    #this method reduce to minimum term the fraction object\n",
    "\n",
    "    def minimumTerm(self):\n",
    "\n",
    "        commondivisor = gcd (self.numerator, self.denominator)\n",
    "        \n",
    "        if commondivisor == 1 :\n",
    "            print(' The fraction is already reduced to minimum term')\n",
    "        else:\n",
    "        \n",
    "            self.numerator  = int(self.numerator / commondivisor)\n",
    "            self.denominator = int(self.denominator / commondivisor)\n",
    "\n",
    "    # ---------------------------------------------------------------------------------------------------------\n",
    "\n",
    "    #this method of the class overload the operation of sum, division, produce and sottraction defined by default by python\n",
    "    # the sum of two fraction return a fraction object \n",
    "\n",
    "    "
   ]
  }
 ],
 "metadata": {
  "kernelspec": {
   "display_name": "base",
   "language": "python",
   "name": "python3"
  },
  "language_info": {
   "codemirror_mode": {
    "name": "ipython",
    "version": 3
   },
   "file_extension": ".py",
   "mimetype": "text/x-python",
   "name": "python",
   "nbconvert_exporter": "python",
   "pygments_lexer": "ipython3",
   "version": "3.9.7"
  }
 },
 "nbformat": 4,
 "nbformat_minor": 2
}
