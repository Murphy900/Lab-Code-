{
 "cells": [
  {
   "cell_type": "markdown",
   "metadata": {},
   "source": [
    "<H1> Exercise of Lecture 5 : Function, Classes and Functional Programming </H1>"
   ]
  },
  {
   "cell_type": "markdown",
   "metadata": {},
   "source": [
    "<h3> Exercise 5.1 </h3>\n",
    "<p> Create a python library that implements the Fraction class, containing its constructor, the data members to save numerator and denominator, and the class method that returns the division between the numerator and the denominator.</p>"
   ]
  },
  {
   "cell_type": "markdown",
   "metadata": {},
   "source": [
    "<h3> Exercise 5.2 </h3>\n",
    "<p> Implement a test function of the class inside the library file itself, that verifies the output of each method of the class, and that prints on screen the value of the numerator and of the denominator of a fraction. </p>"
   ]
  },
  {
   "cell_type": "code",
   "execution_count": 8,
   "metadata": {},
   "outputs": [],
   "source": [
    "from math import gcd\n",
    "\n",
    "class Fraction:\n",
    "\n",
    "    # Constructor for inizialize a general fraction \n",
    "\n",
    "    def __init__ (self, numerator,denominator):\n",
    "\n",
    "        \n",
    "        if denominator == 0 :\n",
    "            raise ValueError('you can\\'t divide a number for 0, enter a number greater than zero ')\n",
    "        if type(numerator) != int and type(denominator) != int :\n",
    "            raise TypeError ('Numerator and Denominator must be integer')\n",
    "        else:    \n",
    "            self.numerator  = numerator # theyre the class istance attribute \n",
    "            self.denominator = denominator\n",
    "\n",
    "    # --------------------------------------------------------------------------------------------------------\n",
    "\n",
    "    # method for printing the value of the numerator and denominator of a fraction \n",
    "    def print (self):\n",
    "\n",
    "        print(str(self.numerator) + '/' + str(self.denominator))\n",
    "\n",
    "    # -------------------------------------------------------------------------------------------------------\n",
    "    #this method reduce to minimum term the fraction object\n",
    "\n",
    "    def minimumTerm(self):\n",
    "\n",
    "        commondivisor = gcd (self.numerator, self.denominator)\n",
    "        \n",
    "        if commondivisor == 1 :\n",
    "            print(' The fraction is already reduced to minimum term')\n",
    "        else:\n",
    "        \n",
    "            numerator  = int(self.numerator / commondivisor)\n",
    "            denominator = int(self.denominator / commondivisor)\n",
    "    \n",
    "        return Fraction(numerator,denominator)\n",
    "\n",
    "    # ---------------------------------------------------------------------------------------------------------\n",
    "\n"
   ]
  },
  {
   "cell_type": "markdown",
   "metadata": {},
   "source": [
    "<p> Testing of the class </p\n",
    ">"
   ]
  },
  {
   "cell_type": "code",
   "execution_count": 11,
   "metadata": {},
   "outputs": [
    {
     "name": "stdout",
     "output_type": "stream",
     "text": [
      "3/9\n",
      "1/3\n",
      "-------------------------------------------------------\n",
      "1/3\n",
      " The fraction is already reduced to minimum term\n",
      "1/3\n",
      "1\n"
     ]
    }
   ],
   "source": [
    "def main (): \n",
    "\n",
    "    fraction = Fraction(3,9)\n",
    "    fraction.print()\n",
    "    fraction.minimumTerm()\n",
    "    fraction.print()\n",
    "    print('-------------------------------------------------------')\n",
    "    frac1 = Fraction (1,3)\n",
    "    frac1.print()\n",
    "    frac1.minimumTerm()\n",
    "    frac1.print()\n",
    "    # a = frac1.numerator # in python the access to istance class attribute doesn't need to be defined in the class\n",
    "\n",
    "    \n",
    "\n",
    "if __name__ == \"__main__\" :\n",
    "   main()\n"
   ]
  },
  {
   "cell_type": "markdown",
   "metadata": {},
   "source": [
    "<h3> Exercise 5.3 </h3>\n",
    "<p>\n",
    "Add to the Fraction class the overloading of the +, -, *, / operations in such a way that each of them returns an object of the type Fraction.\n",
    "\n",
    "Add to the test function the call to all the new methods and the verification of their behaviour.</p>"
   ]
  },
  {
   "cell_type": "code",
   "execution_count": 44,
   "metadata": {},
   "outputs": [],
   "source": [
    "from math import gcd,lcm\n",
    "\n",
    "class Fraction:\n",
    "\n",
    "    # Constructor for inizialize a general fraction \n",
    "\n",
    "    def __init__ (self, numerator,denominator):\n",
    "\n",
    "        \n",
    "        if denominator == 0 :\n",
    "            raise ValueError('you can\\'t divide a number for 0, enter a number greater than zero ')\n",
    "        if type(numerator) != int and type(denominator) != int :\n",
    "            raise TypeError ('Numerator and Denominator must be integer')\n",
    "        else:    \n",
    "            self.numerator  = numerator\n",
    "            self.denominator = denominator\n",
    "\n",
    "    # --------------------------------------------------------------------------------------------------------\n",
    "\n",
    "    # method for printing the value of the numerator and denominator of a fraction \n",
    "    def print (self):\n",
    "\n",
    "        print(str(self.numerator) + '/' + str(self.denominator))\n",
    "\n",
    "    # -------------------------------------------------------------------------------------------------------\n",
    "    #this method reduce to minimum term the fraction object\n",
    "\n",
    "    def minimumTerm(self):\n",
    "\n",
    "        commondivisor = gcd (self.numerator, self.denominator)\n",
    "        \n",
    "        if commondivisor == 1 :\n",
    "            print(' The fraction is already reduced to minimum term')\n",
    "        else:\n",
    "        \n",
    "            numerator  = int(self.numerator / commondivisor)\n",
    "            denominator = int(self.denominator / commondivisor)\n",
    "        \n",
    "        return Fraction(numerator,denominator)\n",
    "   \n",
    "\n",
    "    # ---------------------------------------------------------------------------------------------------------\n",
    "\n",
    "    #this method of the class overload the operation of sum, division, produce and sottraction defined by default by python\n",
    "    # the sum of two fraction return a fraction object \n",
    "    # this function is callable with the + symbol\n",
    "\n",
    "    def __add__ (self, other): #other make referece to the other addendum attribute \n",
    "\n",
    "        new_denominator = self.denominator * other.denominator\n",
    "\n",
    "        new_numerator = self.numerator * other.denominator + other.numerator * self.denominator\n",
    "\n",
    "        return Fraction(new_numerator,new_denominator).minimumTerm()\n",
    "        \n",
    "        \n",
    "    def __sub__ (self, other):\n",
    "        \n",
    "        new_denominator = self.denominator * other.denominator\n",
    "\n",
    "        new_numerator = self.numerator * other.denominator - other.numerator * self.denominator\n",
    "\n",
    "        return Fraction(new_numerator,new_denominator).minimumTerm()\n",
    "\n",
    "    def __mul__ (self,other):\n",
    "        \n",
    "        new_denominator = self.denominator * other.denominator\n",
    "        new_numerator = self.numerator * other.numerator\n",
    "\n",
    "        return Fraction(new_numerator,new_denominator).minimumTerm()\n",
    "    \n",
    "    def __truediv__ (self,other):\n",
    "\n",
    "        new_numerator = self.numerator * other.denominator\n",
    "        new_denominator = self.denominator * other.numerator\n",
    "\n",
    "        return Fraction(new_numerator, new_denominator).minimumTerm()\n",
    "\n",
    "\n",
    "\n",
    "# --------------------------------------------------------------------------------------------------------------------------------------\n",
    "\n",
    "        \n",
    "\n",
    "    "
   ]
  },
  {
   "cell_type": "markdown",
   "metadata": {},
   "source": [
    "<p/> Testing of the class new method </p>"
   ]
  },
  {
   "cell_type": "code",
   "execution_count": 45,
   "metadata": {},
   "outputs": [
    {
     "name": "stdout",
     "output_type": "stream",
     "text": [
      "1/1\n",
      "3/5\n",
      "4/25\n",
      "4/1\n"
     ]
    }
   ],
   "source": [
    "def main():\n",
    "\n",
    "# Testing addition method of the Fraction Class\n",
    "\n",
    "    frac1 = Fraction(4,5)\n",
    "    frac2 = Fraction(2,10)\n",
    "    frac = frac1 + frac2\n",
    "    frac.print()\n",
    "\n",
    "#Testing the subtraction method of the Fraction Class\n",
    "\n",
    "    frac = frac1 - frac2\n",
    "    frac.print()\n",
    "\n",
    "#Testing the moltiplication method of the Fraction Class\n",
    "    \n",
    "    frac = frac1*frac2\n",
    "    frac.print()\n",
    "\n",
    "#Testing the division method of the Fraction Class\n",
    "\n",
    "    frac = frac1 / frac2\n",
    "    frac.print()\n",
    "\n",
    "if __name__ == \"__main__\" :\n",
    "    main()"
   ]
  },
  {
   "cell_type": "markdown",
   "metadata": {},
   "source": [
    "<h3> Exercise 5.4 </h3>\n",
    "<p> Write a python program that reads the sample file eventi_unif.txt of Exercise 3.2 and, using the filter function, creates two different sub-sets of events containing those larger or smaller than the average respectively, using lambda functions in the process.\n",
    "\n",
    "Show that the sigma of the two subsets is half the one of the parent sample.</p>"
   ]
  },
  {
   "cell_type": "code",
   "execution_count": 145,
   "metadata": {},
   "outputs": [
    {
     "name": "stdout",
     "output_type": "stream",
     "text": [
      "1.5748388014000654\n",
      "1.5834337370648714\n",
      "3.158272538464937\n",
      "3.1776809689426666\n"
     ]
    }
   ],
   "source": [
    "import numpy as np\n",
    "def main ():\n",
    "\n",
    "    file = open('F:\\Lab-Code-\\Ex 5 Python\\eventi_unif.txt', 'r').read()\n",
    "    sample = file.split(\"\\n\")\n",
    "    sample.remove('')\n",
    "    \n",
    "    values = [float(x) for x in sample]\n",
    "\n",
    "    avg = np.mean(values)\n",
    "    std = np.sqrt(np.var(values))\n",
    "\n",
    "    gta = list(filter(lambda x : x > avg , values))\n",
    "    lta = list(filter(lambda x : x < avg, values))\n",
    "\n",
    "    std_gta = np.sqrt(np.var(gta))\n",
    "    std_lta = np.sqrt(np.var(lta))\n",
    "\n",
    "    print(std_gta)\n",
    "    print(std_lta)\n",
    "    print(std_gta + std_lta)\n",
    "    print(std)\n",
    "   \n",
    "\n",
    "if __name__ == \"__main__\" :\n",
    "    main()\n",
    "\n"
   ]
  },
  {
   "cell_type": "markdown",
   "metadata": {},
   "source": [
    "<h3> Exercise 5.5 </h3>\n",
    "\n",
    "<ul>\n",
    "\n",
    "<li>Write a python program that reads the sample file eventi_gauss.txt of Exercise 3.3 and, using the map function, creates the distribution of the squares and cubes of random Gaussian numbers, respectively, using lambda functions in the process</li>\n",
    "\n",
    "<li>Plot the distribution of them, together with the original sample one, all in the same frame</li>\n",
    "\n",
    "</ul>\n"
   ]
  },
  {
   "cell_type": "code",
   "execution_count": 188,
   "metadata": {},
   "outputs": [
    {
     "data": {
      "image/png": "[encoded data removed]",
      "text/plain": [
       "<Figure size 432x288 with 1 Axes>"
      ]
     },
     "metadata": {
      "needs_background": "light"
     },
     "output_type": "display_data"
    }
   ],
   "source": [
    "import matplotlib.pyplot as plt\n",
    "from math import ceil\n",
    "import numpy as np \n",
    "\n",
    "def sturges(N_events):\n",
    "    return ceil(1+3.322 * np.log(N_events))\n",
    "\n",
    "def main():\n",
    "\n",
    "    file = open('F:\\Lab-Code-\\Ex 5 Python\\eventi_gauss.txt', 'r').read()\n",
    "    sample = file.split(\"\\n\")\n",
    "    sample.remove('')\n",
    "    \n",
    "    values = [float(x) for x in sample]\n",
    "\n",
    "    square = list(map(lambda x : x**2, values))\n",
    "    cubic  = list(map(lambda x : pow(x,3), values))\n",
    "\n",
    "    N_bins = sturges(len(values))\n",
    " \n",
    "\n",
    "    edges_square = np.linspace(np.min(square),np.max(square), N_bins)\n",
    "    edges_cubic = np.linspace(np.min(cubic),np.max(cubic), N_bins)\n",
    "    edges = np.linspace(np.min(values),np.max(values),N_bins)\n",
    "\n",
    "\n",
    "    plt.hist(square, color = 'orange', bins= edges_square,histtype='step')\n",
    "    plt.hist(cubic,color = 'blue', bins= edges_cubic,histtype='step')\n",
    "    plt.hist(values,color = 'green', bins = edges, histtype= 'step')\n",
    "    \n",
    "    \n",
    "if __name__ == \"__main__\":\n",
    "    main()\n"
   ]
  }
 ],
 "metadata": {
  "kernelspec": {
   "display_name": "base",
   "language": "python",
   "name": "python3"
  },
  "language_info": {
   "codemirror_mode": {
    "name": "ipython",
    "version": 3
   },
   "file_extension": ".py",
   "mimetype": "text/x-python",
   "name": "python",
   "nbconvert_exporter": "python",
   "pygments_lexer": "ipython3",
   "version": "3.9.7"
  }
 },
 "nbformat": 4,
 "nbformat_minor": 2
}
