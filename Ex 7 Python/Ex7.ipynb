{
 "cells": [
  {
   "cell_type": "markdown",
   "metadata": {},
   "source": [
    "<h1> Lecture 7: Poisson Distribution </h1>"
   ]
  },
  {
   "cell_type": "markdown",
   "metadata": {},
   "source": [
    "<h3> Exercise 7.1 </h3>\n",
    "<p> Generate a sample of pseudo-random numbers distributed according to an exponential density distribution with a characteristic time t0 of 5 seconds.\n",
    "<uL>\n",
    "<li>Visualize the distribution of the obtained sample in a histogram using the inverse function method.</li>\n",
    "<li>Write all functions responsible for random number generation in a library, implemented in separate files from the main program.</li>\n",
    "</ul>"
   ]
  },
  {
   "cell_type": "code",
   "execution_count": 5,
   "metadata": {},
   "outputs": [],
   "source": [
    "import random\n",
    "import numpy as np\n",
    "\n",
    "#--------------------------------------------------------------------------------------------------------------\n",
    "# This method generate pseudo-random numbeers between 0 and 1 with uniform distribution initialized by a seed \n",
    "#--------------------------------------------------------------------------------------------------------------\n",
    "\n",
    "\n",
    "def rand_uniform(N, seed = 0.):\n",
    "\n",
    "    if seed != 0. : random.seed(float(seed))\n",
    "    randlist = []\n",
    "    for i in range (0,N):\n",
    "        \n",
    "        randlist.append(random.random())\n",
    "    return randlist\n",
    "\n",
    "#-------------------------------------------------------------------------------------------------------------------\n",
    "# This method generate pseudo-random numbers that follow an exponential pdf using the inverse function algorithm\n",
    "#-------------------------------------------------------------------------------------------------------------------\n",
    "\n",
    "def generate_exp(tau,N,seed):\n",
    "    \n",
    "    if tau <= 0 : raise ValueError('Tau must be a positive number')\n",
    "    f = lambda y : -tau*np.log(1-y) # cumulative distribution function for an exponential pdf(x)\n",
    "    y = rand_uniform(N,seed)\n",
    "    return list(map(f,y)) \n",
    "\n",
    "\n",
    "\n"
   ]
  },
  {
   "cell_type": "code",
   "execution_count": 10,
   "metadata": {},
   "outputs": [
    {
     "name": "stdout",
     "output_type": "stream",
     "text": [
      "[0.5714025946899135, 0.4288890546751146, 0.5780913011344704, 0.20609823213950174, 0.81332125135732, 0.8235888725334455, 0.6534725339011758, 0.16022955651881965, 0.5206693596399246, 0.32777281162209315]\n",
      "[0.5714025946899135, 0.4288890546751146, 0.5780913011344704, 0.20609823213950174, 0.81332125135732, 0.8235888725334455, 0.6534725339011758, 0.16022955651881965, 0.5206693596399246, 0.32777281162209315]\n"
     ]
    }
   ],
   "source": []
  }
 ],
 "metadata": {
  "kernelspec": {
   "display_name": "base",
   "language": "python",
   "name": "python3"
  },
  "language_info": {
   "codemirror_mode": {
    "name": "ipython",
    "version": 3
   },
   "file_extension": ".py",
   "mimetype": "text/x-python",
   "name": "python",
   "nbconvert_exporter": "python",
   "pygments_lexer": "ipython3",
   "version": "3.9.7"
  }
 },
 "nbformat": 4,
 "nbformat_minor": 2
}
