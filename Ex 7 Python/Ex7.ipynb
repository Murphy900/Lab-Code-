{
 "cells": [
  {
   "cell_type": "markdown",
   "metadata": {},
   "source": [
    "<h1> Lecture 7: Poisson Distribution </h1>"
   ]
  },
  {
   "cell_type": "code",
   "execution_count": 27,
   "metadata": {},
   "outputs": [],
   "source": [
    "import random\n",
    "import numpy as np\n",
    "from math import ceil\n",
    "\n",
    "#--------------------------------------------------------------------------------------------------------------\n",
    "# This method generate pseudo-random numbeers between 0 and 1 with uniform distribution initialized by a seed \n",
    "#--------------------------------------------------------------------------------------------------------------\n",
    "\n",
    "\n",
    "def generate_uniform(N, seed = 0.):\n",
    "\n",
    "    if seed != 0. : random.seed(float(seed))\n",
    "    randlist = []\n",
    "    for i in range (0,N):\n",
    "        \n",
    "        randlist.append(random.random())\n",
    "    return randlist\n",
    "\n",
    "#-------------------------------------------------------------------------------------------------------------------\n",
    "# This method generate pseudo-random numbers that follow an exponential pdf using the inverse function algorithm\n",
    "#-------------------------------------------------------------------------------------------------------------------\n",
    "\n",
    "def generate_exp(tau,N,seed=0.):\n",
    "    \n",
    "    if tau <= 0 : raise ValueError('Tau must be a positive number')\n",
    "    f = lambda y : -tau*np.log(1-y) # cumulative distribution function for an exponential pdf(x)\n",
    "    y = generate_uniform(N,seed)\n",
    "    return list(map(f,y)) \n",
    "\n",
    "#---------------------------------------------------------------------------------------------------------------\n",
    "#This function calculate the optimal numbers of bins for making an in Histogram un function of the number of \n",
    "#events\n",
    "#---------------------------------------------------------------------------------------------------------------\n",
    "\n",
    "def sturges(N_events):\n",
    "    \n",
    "    if len(N_events) != 1 :\n",
    "        return ceil(1+3.322 * np.log(len(N_events)))\n",
    "    else:\n",
    "        return ceil(1+3.322 * np.log(N_events))\n",
    "\n",
    "# ---------------------------------------------------------------------------------------------------------------\n",
    "#this method  generate a single event that follow an exponential pdf\n",
    "#---------------------------------------------------------------------------------------------------------------\n",
    "\n",
    "def rand_exp(tau,seed = 0.):\n",
    "     \n",
    "     if tau <= 0 : raise ValueError('Tau must be a positive number')\n",
    "     if seed != 0. : random.seed(float(seed))\n",
    "     y = random.random()\n",
    "     f = lambda y : -tau*np.log(1-y) # cumulative distribution function for an exponential pdf(x)\n",
    "     return f(y)\n",
    "\n",
    "# ---------------------------------------------------------------------------------------------------------------\n",
    "#Generating a pseduo random number that follow Poisson Distribution from exponential pdf with lambda fixed at 1\n",
    "#---------------------------------------------------------------------------------------------------------------\n",
    "\n",
    "def rand_poisson(mean, tau = 1.):\n",
    "\n",
    "    total_time = rand_exp(tau)\n",
    "    events  = 0 \n",
    "    while total_time < mean :\n",
    "        events += 1\n",
    "        total_time += rand_exp(tau)\n",
    "    return events \n",
    "\n",
    "# ---------------------------------------------------------------------------------------------------------------\n",
    "# this method generate a set of random numbers that follow the poisson pdf\n",
    "#-----------------------------------------------------------------------------------------------------------------\n",
    "\n",
    "def generate_poisson(mean,N,tau = 1.,seed = 0.):\n",
    "    \n",
    "    if seed != 0. : random.random(float(seed))\n",
    "    randlist = []\n",
    "\n",
    "    for i in range(N):\n",
    "        randlist.append(rand_poisson(mean,tau))\n",
    "    \n",
    "    return randlist \n",
    "    \n",
    "#----------------------------------------------------------------------------------------------------------------        \n",
    "# this method calculate the airthmetic mean of a sample\n",
    "#---------------------------------------------------------------------------------------------------------------\n",
    "\n",
    "def mu(sample):\n",
    "    \n",
    "    s = np.sum(sample)\n",
    "    mu = s/len(sample)\n",
    "    return mu\n",
    "\n",
    "#----------------------------------------------------------------------------------------------------------------\n",
    "#this metheod calculate the variance of a sample\n",
    "#---------------------------------------------------------------------------------------------------------------\n",
    "\n",
    "def quadratic_sigma(sample):\n",
    "   \n",
    "    var = np.sum((sample-mu(sample))**2)/(len(sample))\n",
    "    return var\n",
    "\n",
    "#----------------------------------------------------------------------------------------------------------------\n",
    "#this method calculate the standard deviation of a sample\n",
    "#---------------------------------------------------------------------------------------------------------------\n",
    "\n",
    "def sigma(sample):\n",
    "    \n",
    "    dev  = np.sqrt(quadratic_sigma(sample))\n",
    "    return dev\n",
    "\n",
    "#---------------------------------------------------------------------------------------------------------------\n",
    "#\n",
    "#---------------------------------------------------------------------------------------------------------------\n",
    "\n",
    "def skewness(sample):\n",
    "    \n",
    "    cube = np.sum((sample - mu(sample))**3)\n",
    "    N = len(sample) \n",
    "    varcube = sigma(sample)**3\n",
    "    skew = cube/(N*varcube)\n",
    "\n",
    "    return skew \n",
    "\n",
    "#---------------------------------------------------------------------------------------------------------------\n",
    "#\n",
    "#---------------------------------------------------------------------------------------------------------------\n",
    "\n",
    "def kurtosis(sample):\n",
    "    \n",
    "    quartic = np.sum((sample - mu(sample))**4)\n",
    "    N = len(sample) \n",
    "    varquartic = sigma(sample)**4\n",
    "    kurt = quartic/(N*varquartic)-3\n",
    "\n",
    "    return kurt \n",
    "\n",
    "\n",
    "\n",
    "#---------------------------------------------------------------------------------------------------------------\n",
    "#\n",
    "#---------------------------------------------------------------------------------------------------------------\n",
    "def momenta(sample):\n",
    "    \n",
    "    return [mu(sample),quadratic_sigma(sample),sigma(sample),skewness(sample),kurtosis(sample)]\n",
    "\n",
    "\n",
    "\n",
    "# note: by default we consider the bessel correction in the calculation of momenta, it would be more efficient\n",
    "# the implemenation if it could be possible to choose to use it or not.\n",
    "    "
   ]
  },
  {
   "cell_type": "markdown",
   "metadata": {},
   "source": [
    "<h3> Exercise 7.1 </h3>\n",
    "<p> Generate a sample of pseudo-random numbers distributed according to an exponential density distribution with a characteristic time t0 of 5 seconds.\n",
    "<uL>\n",
    "<li>Visualize the distribution of the obtained sample in a histogram using the inverse function method.</li>\n",
    "<li>Write all functions responsible for random number generation in a library, implemented in separate files from the main program.</li>\n",
    "</ul>"
   ]
  },
  {
   "cell_type": "code",
   "execution_count": 28,
   "metadata": {},
   "outputs": [
    {
     "data": {
      "text/plain": [
       "(array([1200., 1068.,  914.,  768.,  724.,  640.,  592.,  481.,  457.,\n",
       "         413.,  304.,  320.,  255.,  201.,  190.,  171.,  147.,  154.,\n",
       "         129.,   99.,   84.,   91.,   70.,   74.,   56.,   52.,   49.,\n",
       "          49.,   37.,   28.,   18.]),\n",
       " array([ 0.        ,  0.64516129,  1.29032258,  1.93548387,  2.58064516,\n",
       "         3.22580645,  3.87096774,  4.51612903,  5.16129032,  5.80645161,\n",
       "         6.4516129 ,  7.09677419,  7.74193548,  8.38709677,  9.03225806,\n",
       "         9.67741935, 10.32258065, 10.96774194, 11.61290323, 12.25806452,\n",
       "        12.90322581, 13.5483871 , 14.19354839, 14.83870968, 15.48387097,\n",
       "        16.12903226, 16.77419355, 17.41935484, 18.06451613, 18.70967742,\n",
       "        19.35483871, 20.        ]),\n",
       " <BarContainer object of 31 artists>)"
      ]
     },
     "execution_count": 28,
     "metadata": {},
     "output_type": "execute_result"
    },
    {
     "data": {
      "image/png": "[encoded data removed]",
      "text/plain": [
       "<Figure size 432x288 with 1 Axes>"
      ]
     },
     "metadata": {
      "needs_background": "light"
     },
     "output_type": "display_data"
    }
   ],
   "source": [
    "import matplotlib.pyplot as plt\n",
    "\n",
    "tau = 5\n",
    "\n",
    "randlist = generate_exp(tau,10000)\n",
    "\n",
    "nBins = sturges(randlist)\n",
    "\n",
    "bin_edges = np.linspace(0.,4*tau,nBins )\n",
    "\n",
    "plt.hist(randlist,bins = bin_edges, color = 'orange')\n",
    "\n"
   ]
  },
  {
   "cell_type": "markdown",
   "metadata": {},
   "source": [
    "<h3> Exercise 7.2 </h3>\n",
    "<p>Use the result from the first exercise to simulate a countng experiment with Poisson characteristics:\n",
    "<ul>\n",
    "<li>Choose a characteristic time t0 for a radioactive decay process;</li>\n",
    "\n",
    "<li>Choose a measurement time tM for the counting window;</li>\n",
    "\n",
    "<li>In a loop, simulate N pseudo-experiments of counting, where, for each of them, a sequence of random events is generated with an intertime characteristic of Poisson phenomena, until the total time elapsed is greater than the measurement time, counting the number of generated events that fall within the interval.</li>\n",
    "\n",
    "</ul>\n",
    "Fill a histogram with the simulated counts for each experiment. </p>"
   ]
  },
  {
   "cell_type": "code",
   "execution_count": 29,
   "metadata": {},
   "outputs": [
    {
     "data": {
      "text/plain": [
       "(array([3306., 3709., 1987.,  719.,  270.]),\n",
       " array([0., 1., 2., 3., 4., 5.]),\n",
       " <BarContainer object of 5 artists>)"
      ]
     },
     "execution_count": 29,
     "metadata": {},
     "output_type": "execute_result"
    },
    {
     "data": {
      "image/png": "[encoded data removed]",
      "text/plain": [
       "<Figure size 432x288 with 1 Axes>"
      ]
     },
     "metadata": {
      "needs_background": "light"
     },
     "output_type": "display_data"
    }
   ],
   "source": [
    "import numpy as np \n",
    "import matplotlib.pyplot as plt \n",
    "from math import ceil\n",
    "\n",
    "    \n",
    "\n",
    "t0 = 55 # time in seconds of decaying for Thoron an isotope of radon\n",
    "\n",
    "tm = 60 # time of measurament in second\n",
    "\n",
    "N = 10000\n",
    "randlist = []\n",
    "\n",
    "\n",
    "for i in range(N):\n",
    "\n",
    "    total_time = rand_exp(t0) # if the seed is not specified is change in every iteration \n",
    "    events = 0\n",
    "    \n",
    "    while (total_time < tm):\n",
    "        events += 1\n",
    "        total_time += rand_exp(t0)\n",
    "    randlist.append(events)\n",
    "        \n",
    "    \n",
    "\n",
    "\n",
    "Nbins = sturges(randlist)\n",
    "\n",
    "xMin = max(0., ceil(np.mean(randlist)-3*(np.var(randlist))**0.5))\n",
    "xMax = ceil(np.mean(randlist)+ 3*(np.var(randlist))**0.5)\n",
    "\n",
    "\n",
    "\n",
    "bin_edges = np.linspace(xMin,xMax, int(xMax - xMin) + 1 )\n",
    "#bin_edges  = np.linspace(min(randlist),max(randlist), int(max(randlist) - min(randlist))+1)\n",
    "\n",
    "\n",
    "plt.hist(randlist,bins = bin_edges)\n"
   ]
  },
  {
   "cell_type": "markdown",
   "metadata": {},
   "source": [
    "<h3> Exercise 7.3 </h3>\n",
    "<p>Use the source code written in the previous exercise to add to the library developed for exercise 1 a function that generates random numbers according to the Poisson distribution, with the mean expected events as an input parameter.\n",
    "<ul>\n",
    "<li>Rewrite the previous exercise using this function, also drawing the probability density histogram.</li>\n",
    "\n",
    "<li>Calculate the sample statistics (mean, variance, skewness, kurtosis) from the input list using a library.</li>\n",
    "\n",
    "<li>Use the generated sample to test the functionality of the library.</li>\n",
    "</ul> </p>"
   ]
  },
  {
   "cell_type": "code",
   "execution_count": 30,
   "metadata": {},
   "outputs": [
    {
     "name": "stdout",
     "output_type": "stream",
     "text": [
      "the kurtosis of the pdf is: 0.204198591750004\n",
      "the skewness of the pdf is: 0.472180007764306\n",
      "the mean of the pdf is: 3.981\n",
      "the variance of the pdf is: 3.905239\n",
      "the standarrd deviation of the pdf is: 1.976167756036921\n",
      "[3.981, 3.905239, 1.976167756036921, 0.4721800077643059, 0.20419859175000443]\n"
     ]
    },
    {
     "data": {
      "text/plain": [
       "(array([ 189.,  729., 1457., 1959., 1998., 1549., 1060.,  577.,  293.,\n",
       "         166.]),\n",
       " array([ 0.,  1.,  2.,  3.,  4.,  5.,  6.,  7.,  8.,  9., 10.]),\n",
       " <BarContainer object of 10 artists>)"
      ]
     },
     "execution_count": 30,
     "metadata": {},
     "output_type": "execute_result"
    },
    {
     "data": {
      "image/png": "[encoded data removed]",
      "text/plain": [
       "<Figure size 432x288 with 1 Axes>"
      ]
     },
     "metadata": {
      "needs_background": "light"
     },
     "output_type": "display_data"
    }
   ],
   "source": [
    "import scipy.stats as stats\n",
    "\n",
    "poisson = generate_poisson(220,10000,55)\n",
    "    \n",
    "Nbins = sturges(poisson)\n",
    "\n",
    "xMin = max(0., ceil(np.mean(poisson)-3*(np.var(poisson))**0.5))\n",
    "xMax = ceil(np.mean(poisson)+ 3*(np.var(poisson))**0.5)\n",
    "\n",
    "\n",
    "\n",
    "bin_edges = np.linspace(xMin,xMax, int(xMax - xMin) + 1 )\n",
    "\n",
    "kurt  = stats.kurtosis(poisson)\n",
    "skew = stats.skew(poisson)\n",
    "mean = np.mean(poisson)\n",
    "variance = np.var(poisson)\n",
    "std = np.std(poisson)\n",
    "\n",
    "print('the kurtosis of the pdf is: ' + str(kurt) )\n",
    "print('the skewness of the pdf is: ' + str(skew) )\n",
    "print('the mean of the pdf is: ' + str(mean))\n",
    "print('the variance of the pdf is: ' + str(variance))\n",
    "print('the standarrd deviation of the pdf is: ' + str(std))\n",
    "print(momenta(poisson))\n",
    "\n",
    "\n",
    "\n",
    "plt.hist(poisson,bins = bin_edges)\n",
    "    "
   ]
  },
  {
   "cell_type": "markdown",
   "metadata": {},
   "source": [
    "<h3> Exercise 7.4 </h3>\n",
    "\n",
    "<p>\n",
    "<ul>\n",
    "<li>Use the result from the previous exercise to calculate the statistics of a Poisson distribution varying the mean, from 1 to 250 (how should you sample the interval?). </li>\n",
    "\n",
    "<li>Plot the obtained behavior of skewness and kurtosis as function of the Poisson mean. </li>\n",
    "</ul>\n",
    "</p>"
   ]
  },
  {
   "cell_type": "code",
   "execution_count": 48,
   "metadata": {},
   "outputs": [
    {
     "data": {
      "text/plain": [
       "Text(0, 0.5, 'Kurtosis')"
      ]
     },
     "execution_count": 48,
     "metadata": {},
     "output_type": "execute_result"
    },
    {
     "data": {
      "image/png": "[encoded data removed]",
      "text/plain": [
       "<Figure size 432x288 with 2 Axes>"
      ]
     },
     "metadata": {
      "needs_background": "light"
     },
     "output_type": "display_data"
    }
   ],
   "source": [
    "mean = []\n",
    "skew = []\n",
    "kurt = []\n",
    "mean_min = 1\n",
    "mean_max  = 250\n",
    "while mean_min < mean_max:\n",
    "    mean.append(mu(generate_poisson(mean_min,50)))\n",
    "    \n",
    "    skew.append(skewness(generate_poisson(mean_min,50)))\n",
    "    kurt.append(kurtosis(generate_poisson(mean_min,50)))\n",
    "    mean_min *=2\n",
    "\n",
    "fig, (ax1,ax2) = plt.subplots(2,sharex = True)\n",
    "fig.suptitle('Poissonon distribution asymptotic behaviour')\n",
    "\n",
    "ax1.plot(mean,skew)\n",
    "ax1.set_xlabel('Mean')\n",
    "ax1.set_ylabel('Skewness')\n",
    "\n",
    "ax2.plot(mean,kurt)\n",
    "ax2.set_xlabel('Mean')\n",
    "ax2.set_ylabel('Kurtosis')\n"
   ]
  }
 ],
 "metadata": {
  "kernelspec": {
   "display_name": "base",
   "language": "python",
   "name": "python3"
  },
  "language_info": {
   "codemirror_mode": {
    "name": "ipython",
    "version": 3
   },
   "file_extension": ".py",
   "mimetype": "text/x-python",
   "name": "python",
   "nbconvert_exporter": "python",
   "pygments_lexer": "ipython3",
   "version": "3.9.7"
  }
 },
 "nbformat": 4,
 "nbformat_minor": 2
}
