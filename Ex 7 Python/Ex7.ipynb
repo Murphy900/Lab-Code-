{
 "cells": [
  {
   "cell_type": "markdown",
   "metadata": {},
   "source": [
    "<h1> Lecture 7: Poisson Distribution </h1>"
   ]
  },
  {
   "cell_type": "code",
   "execution_count": 13,
   "metadata": {},
   "outputs": [],
   "source": [
    "import random\n",
    "import numpy as np\n",
    "from math import ceil\n",
    "\n",
    "#--------------------------------------------------------------------------------------------------------------\n",
    "# This method generate pseudo-random numbeers between 0 and 1 with uniform distribution initialized by a seed \n",
    "#--------------------------------------------------------------------------------------------------------------\n",
    "\n",
    "\n",
    "def rand_uniform(N, seed = 0.):\n",
    "\n",
    "    if seed != 0. : random.seed(float(seed))\n",
    "    randlist = []\n",
    "    for i in range (0,N):\n",
    "        \n",
    "        randlist.append(random.random())\n",
    "    return randlist\n",
    "\n",
    "#-------------------------------------------------------------------------------------------------------------------\n",
    "# This method generate pseudo-random numbers that follow an exponential pdf using the inverse function algorithm\n",
    "#-------------------------------------------------------------------------------------------------------------------\n",
    "\n",
    "def generate_exp(tau,N,seed):\n",
    "    \n",
    "    if tau <= 0 : raise ValueError('Tau must be a positive number')\n",
    "    f = lambda y : -tau*np.log(1-y) # cumulative distribution function for an exponential pdf(x)\n",
    "    y = rand_uniform(N,seed)\n",
    "    return list(map(f,y)) \n",
    "\n",
    "# - - - - - - - - - - - - - - - - - - - - - - - - - - - - - - - - - - - - - - - - - - - - - - - - - - - - - - -\n",
    "\n",
    "#This function calculate the optimal numbers of bins for making an in Histogram un function of the number of \n",
    "#events\n",
    "\n",
    "def sturges(N_events):\n",
    "    if len(N_events) != 1 :\n",
    "        return ceil(1+3.322 * np.log(len(N_events)))\n",
    "    else:\n",
    "        return ceil(1+3.322 * np.log(N_events))\n",
    "\n",
    "# - - - - - - - - - - - - - - - - - - - - - - - - - - - - - - - - - - - - - - - - - - - - - - - - - - - - - -\n",
    "\n"
   ]
  },
  {
   "cell_type": "markdown",
   "metadata": {},
   "source": [
    "<h3> Exercise 7.1 </h3>\n",
    "<p> Generate a sample of pseudo-random numbers distributed according to an exponential density distribution with a characteristic time t0 of 5 seconds.\n",
    "<uL>\n",
    "<li>Visualize the distribution of the obtained sample in a histogram using the inverse function method.</li>\n",
    "<li>Write all functions responsible for random number generation in a library, implemented in separate files from the main program.</li>\n",
    "</ul>"
   ]
  },
  {
   "cell_type": "code",
   "execution_count": 23,
   "metadata": {},
   "outputs": [
    {
     "data": {
      "text/plain": [
       "(array([1149., 1033.,  881.,  844.,  741.,  664.,  585.,  474.,  439.,\n",
       "         385.,  337.,  299.,  259.,  222.,  217.,  186.,  146.,  140.,\n",
       "         114.,  103.,  108.,   82.,   63.,   72.,   63.,   45.,   45.,\n",
       "          38.,   32.,   23.,   19.,   23.]),\n",
       " array([ 0.   ,  0.625,  1.25 ,  1.875,  2.5  ,  3.125,  3.75 ,  4.375,\n",
       "         5.   ,  5.625,  6.25 ,  6.875,  7.5  ,  8.125,  8.75 ,  9.375,\n",
       "        10.   , 10.625, 11.25 , 11.875, 12.5  , 13.125, 13.75 , 14.375,\n",
       "        15.   , 15.625, 16.25 , 16.875, 17.5  , 18.125, 18.75 , 19.375,\n",
       "        20.   ]),\n",
       " <BarContainer object of 32 artists>)"
      ]
     },
     "execution_count": 23,
     "metadata": {},
     "output_type": "execute_result"
    },
    {
     "data": {
      "image/png": "[encoded data removed]",
      "text/plain": [
       "<Figure size 432x288 with 1 Axes>"
      ]
     },
     "metadata": {
      "needs_background": "light"
     },
     "output_type": "display_data"
    }
   ],
   "source": [
    "import matplotlib.pyplot as plt\n",
    "\n",
    "tau = 5\n",
    "\n",
    "randlist = generate_exp(tau,10000,10)\n",
    "\n",
    "nBins = sturges(randlist)\n",
    "\n",
    "bin_edges = np.linspace(0.,4*tau,nBins + 1)\n",
    "\n",
    "plt.hist(randlist,bins = bin_edges, color = 'orange')\n",
    "\n"
   ]
  }
 ],
 "metadata": {
  "kernelspec": {
   "display_name": "base",
   "language": "python",
   "name": "python3"
  },
  "language_info": {
   "codemirror_mode": {
    "name": "ipython",
    "version": 3
   },
   "file_extension": ".py",
   "mimetype": "text/x-python",
   "name": "python",
   "nbconvert_exporter": "python",
   "pygments_lexer": "ipython3",
   "version": "3.9.7"
  }
 },
 "nbformat": 4,
 "nbformat_minor": 2
}
