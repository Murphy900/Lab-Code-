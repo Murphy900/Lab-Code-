{
 "cells": [
  {
   "cell_type": "markdown",
   "metadata": {},
   "source": [
    "<h1> Lecture 12: Fit of Binned Distributions </h1>"
   ]
  },
  {
   "cell_type": "markdown",
   "metadata": {},
   "source": [
    "<h3> Exercise 12.1</h3>\n",
    "\n",
    "<p> Write a program that fits the events saved in the file dati.txt. </p>\n",
    "<ul> \n",
    "<li> Take care to determine the range and binning of the histogram used for the fit based on the events themselves, writing appropriate algorithms to determine the minimum and maximum of the sample and a reasonable estimate of the number of bins to use.\n",
    "\n",
    "</li>\n",
    "<li> Determine the initial values of the fit parameters using the techniques described in the lesson.</li>\n",
    "<li>Print the fit result on the screen. </li>\n",
    "<li> Plot the histogram with the fitted model overlaid.</li>\n",
    "<li> Which parameters are correlated, and which are anti-correlated with each other?</li>\n",
    "</ul>"
   ]
  },
  {
   "cell_type": "code",
   "execution_count": null,
   "metadata": {},
   "outputs": [],
   "source": [
    "import sys\n",
    "import numpy as np\n",
    "\n",
    "def openFile():\n",
    "    with open(sys.argv[1]) as input_file:\n",
    "        sample = [float(x) for x in input_file.readlines()]\n",
    "        sample = np.array(sample)\n",
    "    return sample"
   ]
  }
 ],
 "metadata": {
  "kernelspec": {
   "display_name": "base",
   "language": "python",
   "name": "python3"
  },
  "language_info": {
   "name": "python",
   "version": "3.9.7"
  }
 },
 "nbformat": 4,
 "nbformat_minor": 2
}
