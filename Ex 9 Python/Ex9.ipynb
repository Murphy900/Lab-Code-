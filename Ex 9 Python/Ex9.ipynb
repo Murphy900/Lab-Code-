{
 "cells": [
  {
   "cell_type": "markdown",
   "metadata": {},
   "source": [
    "<h1> Lecture 9: The Likelihood </h1>"
   ]
  },
  {
   "cell_type": "markdown",
   "metadata": {},
   "source": [
    "<p>For every single measurent and a defined pdf f(x) associated we calculare le likelihood as the product of the pdf evaluated on the single measurement respect a parameter we want to estimate</p> "
   ]
  },
  {
   "cell_type": "markdown",
   "metadata": {},
   "source": [
    "$$L(\\theta)=\\prod_{i}^{N}f(x_{i},\\theta)$$"
   ]
  },
  {
   "cell_type": "markdown",
   "metadata": {},
   "source": [
    "<p> An example of parameter of a pdf f(x) can be in the gaussian distribution the mean and the standard deviation </p>"
   ]
  },
  {
   "cell_type": "markdown",
   "metadata": {},
   "source": [
    "<p> is it possible to define a log likelihood function as below in this kind of way the numerical operation is more stable </p>"
   ]
  },
  {
   "cell_type": "markdown",
   "metadata": {},
   "source": [
    "$$log(L(\\theta)) = \\sum_{i = 1}^N log(f(x_{i}, \\theta ))$$"
   ]
  },
  {
   "cell_type": "code",
   "execution_count": null,
   "metadata": {},
   "outputs": [],
   "source": [
    "from math import log\n",
    "\n",
    "#------------------------------------------------------------------------------------\n",
    "#this method calculate le loglikelihood of a parameter theta  and return it's value\n",
    "#------------------------------------------------------------------------------------\n",
    "\n",
    "def loglikelihood(pdf,theta, sample):\n",
    "    \n",
    "    loglike = 0 \n",
    "\n",
    "    for x in sample:\n",
    "        if pdf(x,theta) > 0.: loglike += log(pdf(x,theta))\n",
    "    \n",
    "    return loglike\n",
    "    "
   ]
  },
  {
   "cell_type": "markdown",
   "metadata": {},
   "source": [
    "<h3> Exercise 9.1 </h3>\n",
    "<p> Write a program that generates pseudo-random numbers distributed according to an exponential function and stores them in a list. </p>"
   ]
  },
  {
   "cell_type": "code",
   "execution_count": 12,
   "metadata": {},
   "outputs": [
    {
     "name": "stdout",
     "output_type": "stream",
     "text": [
      "[2.9088693556250784, 3.8319993346668486, 0.0949735653789906, 2.009584743297568, 0.46535958035946073, 3.69840144169869, 2.6954827440430793, 5.75600185916004, 0.9675133066979804, 6.526731010463708, 0.17808481585250727, 1.2166575056298337, 3.018894499738734, 0.06516986341864649, 1.8484325973808222, 0.19886716552651487, 0.8464027614052988, 6.014512192481359, 4.4994077939609465, 1.3946161243268536, 1.0755549710577774, 0.5791707220354251, 0.4455832369862598, 2.111840315996367, 14.51091310339793, 6.264857201317111, 0.5030752178459161, 2.0529051197549326, 2.8237601812676125, 1.2632050909723613, 1.7005779585347207, 0.8179545884809112, 0.9743703599746376, 1.8251247602985607, 0.004710396023098759, 3.8656677294187602, 1.7500188726129866, 1.3561025560595725, 1.4502031170905627, 2.5952538344424254, 0.80674228643191, 2.652425697802425, 1.1763076002464485, 4.528491618380487, 4.8903802050155205, 1.1239187750240702, 0.652783145940233, 3.2694591054213835, 1.7796654914999435, 0.48127497641685396]\n"
     ]
    }
   ],
   "source": [
    "import random\n",
    "import numpy as np\n",
    "\n",
    "# ---------------------------------------------------------------------------------------------------------------\n",
    "#this method  generate a single event that follow an exponential pdf\n",
    "#---------------------------------------------------------------------------------------------------------------\n",
    "\n",
    "def rand_exp(tau,seed = 0.):\n",
    "     \n",
    "     if tau <= 0 : raise ValueError('Tau must be a positive number')\n",
    "     if seed != 0. : random.seed(float(seed))\n",
    "     y = random.random()\n",
    "     f = lambda y : -tau*np.log(1-y) # cumulative distribution function for an exponential pdf(x)\n",
    "     return f(y)\n",
    "\n",
    "def generate_exp(tau,N,seed = 0.):\n",
    "     exp = []\n",
    "     if seed != 0. : random.seed(float(seed))\n",
    "     for i in range(N): exp.append(rand_exp(tau,seed))\n",
    "     return exp\n",
    "\n",
    "def main():\n",
    "    \n",
    "    tau = 2.\n",
    "    N = 50\n",
    "\n",
    "    sample = generate_exp(tau,N)\n",
    "    print(sample)\n",
    "\n",
    "if __name__ == \"__main__\": main()\n"
   ]
  },
  {
   "cell_type": "markdown",
   "metadata": {},
   "source": [
    "<h3> Exercise 9.2 </h3>\n",
    "<p>Add to the previous program the source code that fills a histogram with the numbers present in the list where they have been transferred, and displays the histogram on the screen. </p>"
   ]
  },
  {
   "cell_type": "code",
   "execution_count": 38,
   "metadata": {},
   "outputs": [
    {
     "data": {
      "image/png": "[encoded data removed]",
      "text/plain": [
       "<Figure size 640x480 with 1 Axes>"
      ]
     },
     "metadata": {},
     "output_type": "display_data"
    }
   ],
   "source": [
    "from math import ceil\n",
    "import matplotlib.pyplot as plt \n",
    "\n",
    "#---------------------------------------------------------------------------------------------------------------\n",
    "#This function calculate the optimal numbers of bins for making an in Histogram un function of the number of \n",
    "#events\n",
    "#---------------------------------------------------------------------------------------------------------------\n",
    "\n",
    "def sturges(N_events):\n",
    "    \n",
    "    if len(N_events) != 1 :\n",
    "        return ceil(1+3.322 * np.log(len(N_events)))\n",
    "    else:\n",
    "        return ceil(1+3.322 * np.log(N_events))\n",
    "\n",
    "# ---------------------------------------------------------------------------------------------------------------\n",
    "\n",
    "def main():\n",
    "    \n",
    "    tau = 2.\n",
    "    N = 10000\n",
    "\n",
    "    measure = generate_exp(tau,N)\n",
    "    xmin = 0\n",
    "    xmax = 4*tau\n",
    "    nbins = sturges(measure)\n",
    "    bins_edges = np.linspace(xmin,xmax,nbins)\n",
    "\n",
    "    plt.hist(measure,bins = bins_edges, color = 'green')\n",
    "    plt.xlim(0)\n",
    "    plt.title(\"exponential distribution\")\n",
    "    plt.xlabel(\"time\")\n",
    "    plt.ylabel(\"# event\")\n",
    "\n",
    "    \n",
    "\n",
    "    \n",
    "    \n",
    "if __name__ == '__main__': main()\n"
   ]
  },
  {
   "cell_type": "markdown",
   "metadata": {},
   "source": [
    "<h3> Exercise 9.3 </h3>\n",
    "<p>Write a program that plots the exponential probability distribution with a fixed parameter t0. </p>"
   ]
  },
  {
   "cell_type": "code",
   "execution_count": 39,
   "metadata": {},
   "outputs": [
    {
     "name": "stdout",
     "output_type": "stream",
     "text": [
      "[   0    1    2 ... 9997 9998 9999]\n"
     ]
    }
   ],
   "source": [
    "from math import exp\n",
    "\n",
    "def exp_func(x,tau):\n",
    "    exp = lambda x : 1/tau*exp(-x/tau)\n",
    "    return exp\n",
    "\n",
    "tau = 2.0\n",
    "\n",
    "xmin = 0\n",
    "xmax = 4*tau\n",
    "\n",
    "    \n",
    "\n"
   ]
  }
 ],
 "metadata": {
  "kernelspec": {
   "display_name": "base",
   "language": "python",
   "name": "python3"
  },
  "language_info": {
   "codemirror_mode": {
    "name": "ipython",
    "version": 3
   },
   "file_extension": ".py",
   "mimetype": "text/x-python",
   "name": "python",
   "nbconvert_exporter": "python",
   "pygments_lexer": "ipython3",
   "version": "3.9.6"
  }
 },
 "nbformat": 4,
 "nbformat_minor": 2
}
